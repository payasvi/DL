{
  "nbformat": 4,
  "nbformat_minor": 0,
  "metadata": {
    "colab": {
      "name": " Keras-Activation DL Prac 6 (ii)",
      "provenance": [],
      "include_colab_link": true
    },
    "kernelspec": {
      "name": "python3",
      "display_name": "Python 3"
    },
    "accelerator": "GPU"
  },
  "cells": [
    {
      "cell_type": "markdown",
      "metadata": {
        "id": "view-in-github",
        "colab_type": "text"
      },
      "source": [
        "<a href=\"https://colab.research.google.com/github/payasvi/dl/blob/master/prac6/Keras_Activation_DL_Prac_6_(ii).ipynb\" target=\"_parent\"><img src=\"https://colab.research.google.com/assets/colab-badge.svg\" alt=\"Open In Colab\"/></a>"
      ]
    },
    {
      "cell_type": "code",
      "metadata": {
        "id": "wGL-AyxcQrVs",
        "colab_type": "code",
        "outputId": "7a73b022-ef15-4628-eb84-aac6807d34eb",
        "colab": {
          "base_uri": "https://localhost:8080/",
          "height": 1000
        }
      },
      "source": [
        "import keras\n",
        "from keras import models\n",
        "from keras.layers import Dense, Dropout\n",
        "from keras.utils import to_categorical\n",
        "from keras.datasets import mnist\n",
        "from keras.utils.vis_utils import model_to_dot\n",
        "from IPython.display import SVG\n",
        "\n",
        "NUM_ROWS = 28\n",
        "NUM_COLS = 28\n",
        "NUM_CLASSES = 10\n",
        "BATCH_SIZE = 128\n",
        "EPOCHS = 10\n",
        "\n",
        "# Load data\n",
        "(X_train, y_train), (X_test, y_test) = mnist.load_data()\n",
        "\n",
        "# Reshape data\n",
        "X_train = X_train.reshape((X_train.shape[0], NUM_ROWS * NUM_COLS))\n",
        "X_train = X_train.astype('float32') / 255\n",
        "X_test = X_test.reshape((X_test.shape[0], NUM_ROWS * NUM_COLS))\n",
        "X_test = X_test.astype('float32') / 255\n",
        "\n",
        "# Categorically encode labels\n",
        "y_train = to_categorical(y_train, NUM_CLASSES)\n",
        "y_test = to_categorical(y_test, NUM_CLASSES)\n",
        "\n",
        "\n",
        "# Build neural network\n",
        "model = models.Sequential()\n",
        "model.add(Dense(512, activation='elu', input_shape=(NUM_ROWS * NUM_COLS,)))\n",
        "model.add(Dense(256, activation='elu'))\n",
        "model.add(Dense(10, activation='softmax'))\n",
        "\n",
        "# Compile model\n",
        "model.compile(optimizer='rmsprop',\n",
        "              loss='categorical_crossentropy',\n",
        "              metrics=['accuracy'])\n",
        "\n",
        "# Train model\n",
        "model.fit(X_train, y_train,\n",
        "          batch_size=BATCH_SIZE,\n",
        "          epochs=EPOCHS,\n",
        "          verbose=1,\n",
        "          validation_data=(X_test, y_test))\n",
        "\n",
        "score = model.evaluate(X_test, y_test, verbose=0)\n",
        "print('Test loss:', score[0])\n",
        "print('Test accuracy:', score[1])"
      ],
      "execution_count": 0,
      "outputs": [
        {
          "output_type": "stream",
          "text": [
            "Using TensorFlow backend.\n"
          ],
          "name": "stderr"
        },
        {
          "output_type": "display_data",
          "data": {
            "text/html": [
              "<p style=\"color: red;\">\n",
              "The default version of TensorFlow in Colab will soon switch to TensorFlow 2.x.<br>\n",
              "We recommend you <a href=\"https://www.tensorflow.org/guide/migrate\" target=\"_blank\">upgrade</a> now \n",
              "or ensure your notebook will continue to use TensorFlow 1.x via the <code>%tensorflow_version 1.x</code> magic:\n",
              "<a href=\"https://colab.research.google.com/notebooks/tensorflow_version.ipynb\" target=\"_blank\">more info</a>.</p>\n"
            ],
            "text/plain": [
              "<IPython.core.display.HTML object>"
            ]
          },
          "metadata": {
            "tags": []
          }
        },
        {
          "output_type": "stream",
          "text": [
            "Downloading data from https://s3.amazonaws.com/img-datasets/mnist.npz\n",
            "11493376/11490434 [==============================] - 0s 0us/step\n",
            "WARNING:tensorflow:From /usr/local/lib/python3.6/dist-packages/keras/backend/tensorflow_backend.py:66: The name tf.get_default_graph is deprecated. Please use tf.compat.v1.get_default_graph instead.\n",
            "\n",
            "WARNING:tensorflow:From /usr/local/lib/python3.6/dist-packages/keras/backend/tensorflow_backend.py:541: The name tf.placeholder is deprecated. Please use tf.compat.v1.placeholder instead.\n",
            "\n",
            "WARNING:tensorflow:From /usr/local/lib/python3.6/dist-packages/keras/backend/tensorflow_backend.py:4432: The name tf.random_uniform is deprecated. Please use tf.random.uniform instead.\n",
            "\n",
            "WARNING:tensorflow:From /usr/local/lib/python3.6/dist-packages/keras/optimizers.py:793: The name tf.train.Optimizer is deprecated. Please use tf.compat.v1.train.Optimizer instead.\n",
            "\n",
            "WARNING:tensorflow:From /usr/local/lib/python3.6/dist-packages/keras/backend/tensorflow_backend.py:3576: The name tf.log is deprecated. Please use tf.math.log instead.\n",
            "\n",
            "WARNING:tensorflow:From /usr/local/lib/python3.6/dist-packages/tensorflow_core/python/ops/math_grad.py:1424: where (from tensorflow.python.ops.array_ops) is deprecated and will be removed in a future version.\n",
            "Instructions for updating:\n",
            "Use tf.where in 2.0, which has the same broadcast rule as np.where\n",
            "WARNING:tensorflow:From /usr/local/lib/python3.6/dist-packages/keras/backend/tensorflow_backend.py:1033: The name tf.assign_add is deprecated. Please use tf.compat.v1.assign_add instead.\n",
            "\n",
            "WARNING:tensorflow:From /usr/local/lib/python3.6/dist-packages/keras/backend/tensorflow_backend.py:1020: The name tf.assign is deprecated. Please use tf.compat.v1.assign instead.\n",
            "\n",
            "WARNING:tensorflow:From /usr/local/lib/python3.6/dist-packages/keras/backend/tensorflow_backend.py:3005: The name tf.Session is deprecated. Please use tf.compat.v1.Session instead.\n",
            "\n",
            "Train on 60000 samples, validate on 10000 samples\n",
            "Epoch 1/10\n",
            "WARNING:tensorflow:From /usr/local/lib/python3.6/dist-packages/keras/backend/tensorflow_backend.py:190: The name tf.get_default_session is deprecated. Please use tf.compat.v1.get_default_session instead.\n",
            "\n",
            "WARNING:tensorflow:From /usr/local/lib/python3.6/dist-packages/keras/backend/tensorflow_backend.py:197: The name tf.ConfigProto is deprecated. Please use tf.compat.v1.ConfigProto instead.\n",
            "\n",
            "WARNING:tensorflow:From /usr/local/lib/python3.6/dist-packages/keras/backend/tensorflow_backend.py:207: The name tf.global_variables is deprecated. Please use tf.compat.v1.global_variables instead.\n",
            "\n",
            "WARNING:tensorflow:From /usr/local/lib/python3.6/dist-packages/keras/backend/tensorflow_backend.py:216: The name tf.is_variable_initialized is deprecated. Please use tf.compat.v1.is_variable_initialized instead.\n",
            "\n",
            "WARNING:tensorflow:From /usr/local/lib/python3.6/dist-packages/keras/backend/tensorflow_backend.py:223: The name tf.variables_initializer is deprecated. Please use tf.compat.v1.variables_initializer instead.\n",
            "\n",
            "60000/60000 [==============================] - 8s 125us/step - loss: 0.2974 - acc: 0.9093 - val_loss: 0.1448 - val_acc: 0.9557\n",
            "Epoch 2/10\n",
            "60000/60000 [==============================] - 7s 117us/step - loss: 0.1221 - acc: 0.9622 - val_loss: 0.1382 - val_acc: 0.9592\n",
            "Epoch 3/10\n",
            "60000/60000 [==============================] - 7s 120us/step - loss: 0.0834 - acc: 0.9742 - val_loss: 0.1182 - val_acc: 0.9658\n",
            "Epoch 4/10\n",
            "60000/60000 [==============================] - 7s 116us/step - loss: 0.0646 - acc: 0.9794 - val_loss: 0.0897 - val_acc: 0.9718\n",
            "Epoch 5/10\n",
            "60000/60000 [==============================] - 7s 118us/step - loss: 0.0511 - acc: 0.9835 - val_loss: 0.0876 - val_acc: 0.9745\n",
            "Epoch 6/10\n",
            "60000/60000 [==============================] - 7s 119us/step - loss: 0.0426 - acc: 0.9865 - val_loss: 0.0814 - val_acc: 0.9774\n",
            "Epoch 7/10\n",
            "60000/60000 [==============================] - 7s 119us/step - loss: 0.0340 - acc: 0.9886 - val_loss: 0.0783 - val_acc: 0.9768\n",
            "Epoch 8/10\n",
            "60000/60000 [==============================] - 7s 120us/step - loss: 0.0279 - acc: 0.9910 - val_loss: 0.0874 - val_acc: 0.9769\n",
            "Epoch 9/10\n",
            "60000/60000 [==============================] - 7s 119us/step - loss: 0.0238 - acc: 0.9920 - val_loss: 0.0734 - val_acc: 0.9809\n",
            "Epoch 10/10\n",
            "60000/60000 [==============================] - 7s 117us/step - loss: 0.0205 - acc: 0.9933 - val_loss: 0.0795 - val_acc: 0.9799\n",
            "Test loss: 0.07951850501707577\n",
            "Test accuracy: 0.9799\n"
          ],
          "name": "stdout"
        }
      ]
    },
    {
      "cell_type": "code",
      "metadata": {
        "id": "-d4eiyO2Qy0N",
        "colab_type": "code",
        "outputId": "b6f0c241-e4ff-446b-e5dc-e7dda49ca2d3",
        "colab": {
          "base_uri": "https://localhost:8080/",
          "height": 426
        }
      },
      "source": [
        "# Build neural network\n",
        "model = models.Sequential()\n",
        "model.add(Dense(512, activation='softmax', input_shape=(NUM_ROWS * NUM_COLS,)))\n",
        "model.add(Dense(256, activation='softmax'))\n",
        "model.add(Dense(10, activation='softmax'))\n",
        "\n",
        "# Compile model\n",
        "model.compile(optimizer='rmsprop',\n",
        "              loss='categorical_crossentropy',\n",
        "              metrics=['accuracy'])\n",
        "\n",
        "# Train model\n",
        "model.fit(X_train, y_train,\n",
        "          batch_size=BATCH_SIZE,\n",
        "          epochs=EPOCHS,\n",
        "          verbose=1,\n",
        "          validation_data=(X_test, y_test))\n",
        "\n",
        "score = model.evaluate(X_test, y_test, verbose=0)\n",
        "print('Test loss:', score[0])\n",
        "print('Test accuracy:', score[1])"
      ],
      "execution_count": 0,
      "outputs": [
        {
          "output_type": "stream",
          "text": [
            "Train on 60000 samples, validate on 10000 samples\n",
            "Epoch 1/10\n",
            "60000/60000 [==============================] - 8s 125us/step - loss: 2.2698 - acc: 0.1927 - val_loss: 2.1977 - val_acc: 0.5616\n",
            "Epoch 2/10\n",
            "60000/60000 [==============================] - 7s 118us/step - loss: 2.0453 - acc: 0.6449 - val_loss: 1.8609 - val_acc: 0.6600\n",
            "Epoch 3/10\n",
            "60000/60000 [==============================] - 7s 123us/step - loss: 1.6545 - acc: 0.6652 - val_loss: 1.4483 - val_acc: 0.6654\n",
            "Epoch 4/10\n",
            "60000/60000 [==============================] - 7s 122us/step - loss: 1.2689 - acc: 0.6693 - val_loss: 1.1068 - val_acc: 0.6659\n",
            "Epoch 5/10\n",
            "60000/60000 [==============================] - 8s 127us/step - loss: 0.9825 - acc: 0.6744 - val_loss: 0.8843 - val_acc: 0.6699\n",
            "Epoch 6/10\n",
            "60000/60000 [==============================] - 8s 127us/step - loss: 0.8150 - acc: 0.6832 - val_loss: 0.7731 - val_acc: 0.6838\n",
            "Epoch 7/10\n",
            "60000/60000 [==============================] - 8s 128us/step - loss: 0.7321 - acc: 0.6970 - val_loss: 0.7224 - val_acc: 0.6822\n",
            "Epoch 8/10\n",
            "60000/60000 [==============================] - 7s 121us/step - loss: 0.6901 - acc: 0.7105 - val_loss: 0.6940 - val_acc: 0.6996\n",
            "Epoch 9/10\n",
            "60000/60000 [==============================] - 8s 126us/step - loss: 0.6604 - acc: 0.7288 - val_loss: 0.6689 - val_acc: 0.7208\n",
            "Epoch 10/10\n",
            "60000/60000 [==============================] - 7s 121us/step - loss: 0.6315 - acc: 0.7577 - val_loss: 0.6348 - val_acc: 0.7720\n",
            "Test loss: 0.6348179083824158\n",
            "Test accuracy: 0.772\n"
          ],
          "name": "stdout"
        }
      ]
    },
    {
      "cell_type": "code",
      "metadata": {
        "id": "jfg-_M1nQ7oi",
        "colab_type": "code",
        "outputId": "ae232797-2577-4cd8-c061-e2c9a5b77bfe",
        "colab": {
          "base_uri": "https://localhost:8080/",
          "height": 426
        }
      },
      "source": [
        "# Build neural network\n",
        "model = models.Sequential()\n",
        "model.add(Dense(512, activation='selu', input_shape=(NUM_ROWS * NUM_COLS,)))\n",
        "model.add(Dense(256, activation='selu'))\n",
        "model.add(Dense(10, activation='softmax'))\n",
        "\n",
        "# Compile model\n",
        "model.compile(optimizer='rmsprop',\n",
        "              loss='categorical_crossentropy',\n",
        "              metrics=['accuracy'])\n",
        "\n",
        "# Train model\n",
        "model.fit(X_train, y_train,\n",
        "          batch_size=BATCH_SIZE,\n",
        "          epochs=EPOCHS,\n",
        "          verbose=1,\n",
        "          validation_data=(X_test, y_test))\n",
        "\n",
        "score = model.evaluate(X_test, y_test, verbose=0)\n",
        "print('Test loss:', score[0])\n",
        "print('Test accuracy:', score[1])"
      ],
      "execution_count": 0,
      "outputs": [
        {
          "output_type": "stream",
          "text": [
            "Train on 60000 samples, validate on 10000 samples\n",
            "Epoch 1/10\n",
            "60000/60000 [==============================] - 8s 138us/step - loss: 0.3336 - acc: 0.8996 - val_loss: 0.2138 - val_acc: 0.9302\n",
            "Epoch 2/10\n",
            "60000/60000 [==============================] - 8s 134us/step - loss: 0.1361 - acc: 0.9579 - val_loss: 0.1456 - val_acc: 0.9551\n",
            "Epoch 3/10\n",
            "60000/60000 [==============================] - 8s 133us/step - loss: 0.0976 - acc: 0.9701 - val_loss: 0.1084 - val_acc: 0.9671\n",
            "Epoch 4/10\n",
            "60000/60000 [==============================] - 8s 135us/step - loss: 0.0736 - acc: 0.9768 - val_loss: 0.0845 - val_acc: 0.9737\n",
            "Epoch 5/10\n",
            "60000/60000 [==============================] - 8s 135us/step - loss: 0.0588 - acc: 0.9815 - val_loss: 0.1073 - val_acc: 0.9697\n",
            "Epoch 6/10\n",
            "60000/60000 [==============================] - 8s 132us/step - loss: 0.0504 - acc: 0.9836 - val_loss: 0.0985 - val_acc: 0.9747\n",
            "Epoch 7/10\n",
            "60000/60000 [==============================] - 8s 133us/step - loss: 0.0419 - acc: 0.9865 - val_loss: 0.1123 - val_acc: 0.9718\n",
            "Epoch 8/10\n",
            "60000/60000 [==============================] - 8s 132us/step - loss: 0.0380 - acc: 0.9882 - val_loss: 0.0969 - val_acc: 0.9777\n",
            "Epoch 9/10\n",
            "60000/60000 [==============================] - 8s 133us/step - loss: 0.0335 - acc: 0.9897 - val_loss: 0.1181 - val_acc: 0.9728\n",
            "Epoch 10/10\n",
            "60000/60000 [==============================] - 8s 134us/step - loss: 0.0290 - acc: 0.9905 - val_loss: 0.1080 - val_acc: 0.9750\n",
            "Test loss: 0.10798241863819134\n",
            "Test accuracy: 0.975\n"
          ],
          "name": "stdout"
        }
      ]
    },
    {
      "cell_type": "code",
      "metadata": {
        "id": "ky3fOd3PQ8Lc",
        "colab_type": "code",
        "outputId": "250b10c4-caa2-486c-9b47-7a30a8d9e063",
        "colab": {
          "base_uri": "https://localhost:8080/",
          "height": 426
        }
      },
      "source": [
        "# Build neural network\n",
        "model = models.Sequential()\n",
        "model.add(Dense(512, activation='softplus', input_shape=(NUM_ROWS * NUM_COLS,)))\n",
        "model.add(Dense(256, activation='softplus'))\n",
        "model.add(Dense(10, activation='softmax'))\n",
        "\n",
        "# Compile model\n",
        "model.compile(optimizer='rmsprop',\n",
        "              loss='categorical_crossentropy',\n",
        "              metrics=['accuracy'])\n",
        "\n",
        "# Train model\n",
        "model.fit(X_train, y_train,\n",
        "          batch_size=BATCH_SIZE,\n",
        "          epochs=EPOCHS,\n",
        "          verbose=1,\n",
        "          validation_data=(X_test, y_test))\n",
        "\n",
        "score = model.evaluate(X_test, y_test, verbose=0)\n",
        "print('Test loss:', score[0])\n",
        "print('Test accuracy:', score[1])"
      ],
      "execution_count": 0,
      "outputs": [
        {
          "output_type": "stream",
          "text": [
            "Train on 60000 samples, validate on 10000 samples\n",
            "Epoch 1/10\n",
            "60000/60000 [==============================] - 8s 133us/step - loss: 0.4762 - acc: 0.8536 - val_loss: 0.2165 - val_acc: 0.9324\n",
            "Epoch 2/10\n",
            "60000/60000 [==============================] - 8s 126us/step - loss: 0.1797 - acc: 0.9449 - val_loss: 0.1226 - val_acc: 0.9635\n",
            "Epoch 3/10\n",
            "60000/60000 [==============================] - 8s 125us/step - loss: 0.1170 - acc: 0.9646 - val_loss: 0.1112 - val_acc: 0.9666\n",
            "Epoch 4/10\n",
            "60000/60000 [==============================] - 8s 126us/step - loss: 0.0859 - acc: 0.9731 - val_loss: 0.0909 - val_acc: 0.9731\n",
            "Epoch 5/10\n",
            "60000/60000 [==============================] - 7s 124us/step - loss: 0.0674 - acc: 0.9792 - val_loss: 0.0975 - val_acc: 0.9715\n",
            "Epoch 6/10\n",
            "60000/60000 [==============================] - 8s 126us/step - loss: 0.0549 - acc: 0.9829 - val_loss: 0.0714 - val_acc: 0.9789\n",
            "Epoch 7/10\n",
            "60000/60000 [==============================] - 8s 128us/step - loss: 0.0441 - acc: 0.9860 - val_loss: 0.0756 - val_acc: 0.9788\n",
            "Epoch 8/10\n",
            "60000/60000 [==============================] - 8s 127us/step - loss: 0.0369 - acc: 0.9884 - val_loss: 0.0927 - val_acc: 0.9763\n",
            "Epoch 9/10\n",
            "60000/60000 [==============================] - 8s 127us/step - loss: 0.0315 - acc: 0.9899 - val_loss: 0.0735 - val_acc: 0.9805\n",
            "Epoch 10/10\n",
            "60000/60000 [==============================] - 8s 127us/step - loss: 0.0274 - acc: 0.9915 - val_loss: 0.0832 - val_acc: 0.9796\n",
            "Test loss: 0.08319874168337983\n",
            "Test accuracy: 0.9796\n"
          ],
          "name": "stdout"
        }
      ]
    },
    {
      "cell_type": "code",
      "metadata": {
        "id": "ZccVYHiAREks",
        "colab_type": "code",
        "outputId": "426e6ac3-3911-43dc-b0ce-e03139ebedcc",
        "colab": {
          "base_uri": "https://localhost:8080/",
          "height": 426
        }
      },
      "source": [
        "# Build neural network\n",
        "model = models.Sequential()\n",
        "model.add(Dense(512, activation='softsign', input_shape=(NUM_ROWS * NUM_COLS,)))\n",
        "model.add(Dense(256, activation='softsign'))\n",
        "model.add(Dense(10, activation='softmax'))\n",
        "\n",
        "# Compile model\n",
        "model.compile(optimizer='rmsprop',\n",
        "              loss='categorical_crossentropy',\n",
        "              metrics=['accuracy'])\n",
        "\n",
        "# Train model\n",
        "model.fit(X_train, y_train,\n",
        "          batch_size=BATCH_SIZE,\n",
        "          epochs=EPOCHS,\n",
        "          verbose=1,\n",
        "          validation_data=(X_test, y_test))\n",
        "\n",
        "score = model.evaluate(X_test, y_test, verbose=0)\n",
        "print('Test loss:', score[0])\n",
        "print('Test accuracy:', score[1])"
      ],
      "execution_count": 0,
      "outputs": [
        {
          "output_type": "stream",
          "text": [
            "Train on 60000 samples, validate on 10000 samples\n",
            "Epoch 1/10\n",
            "60000/60000 [==============================] - 7s 124us/step - loss: 0.2980 - acc: 0.9110 - val_loss: 0.1795 - val_acc: 0.9464\n",
            "Epoch 2/10\n",
            "60000/60000 [==============================] - 7s 118us/step - loss: 0.1478 - acc: 0.9557 - val_loss: 0.1263 - val_acc: 0.9609\n",
            "Epoch 3/10\n",
            "60000/60000 [==============================] - 7s 115us/step - loss: 0.1023 - acc: 0.9691 - val_loss: 0.1054 - val_acc: 0.9670\n",
            "Epoch 4/10\n",
            "60000/60000 [==============================] - 7s 118us/step - loss: 0.0764 - acc: 0.9769 - val_loss: 0.0885 - val_acc: 0.9723\n",
            "Epoch 5/10\n",
            "60000/60000 [==============================] - 7s 120us/step - loss: 0.0582 - acc: 0.9825 - val_loss: 0.0802 - val_acc: 0.9741\n",
            "Epoch 6/10\n",
            "60000/60000 [==============================] - 7s 119us/step - loss: 0.0450 - acc: 0.9862 - val_loss: 0.0680 - val_acc: 0.9778\n",
            "Epoch 7/10\n",
            "60000/60000 [==============================] - 7s 121us/step - loss: 0.0347 - acc: 0.9890 - val_loss: 0.0747 - val_acc: 0.9769\n",
            "Epoch 8/10\n",
            "60000/60000 [==============================] - 7s 120us/step - loss: 0.0276 - acc: 0.9916 - val_loss: 0.0637 - val_acc: 0.9792\n",
            "Epoch 9/10\n",
            "60000/60000 [==============================] - 7s 118us/step - loss: 0.0209 - acc: 0.9940 - val_loss: 0.0693 - val_acc: 0.9804\n",
            "Epoch 10/10\n",
            "60000/60000 [==============================] - 7s 120us/step - loss: 0.0175 - acc: 0.9945 - val_loss: 0.0696 - val_acc: 0.9791\n",
            "Test loss: 0.06958273702344159\n",
            "Test accuracy: 0.9791\n"
          ],
          "name": "stdout"
        }
      ]
    },
    {
      "cell_type": "code",
      "metadata": {
        "id": "X6ee9rKzRGsL",
        "colab_type": "code",
        "outputId": "271d6862-7371-4f4c-b335-7496637bd918",
        "colab": {
          "base_uri": "https://localhost:8080/",
          "height": 426
        }
      },
      "source": [
        "# Build neural network\n",
        "model = models.Sequential()\n",
        "model.add(Dense(512, activation='relu', input_shape=(NUM_ROWS * NUM_COLS,)))\n",
        "model.add(Dense(256, activation='relu'))\n",
        "model.add(Dense(10, activation='softmax'))\n",
        "\n",
        "# Compile model\n",
        "model.compile(optimizer='rmsprop',\n",
        "              loss='categorical_crossentropy',\n",
        "              metrics=['accuracy'])\n",
        "\n",
        "# Train model\n",
        "model.fit(X_train, y_train,\n",
        "          batch_size=BATCH_SIZE,\n",
        "          epochs=EPOCHS,\n",
        "          verbose=1,\n",
        "          validation_data=(X_test, y_test))\n",
        "\n",
        "score = model.evaluate(X_test, y_test, verbose=0)\n",
        "print('Test loss:', score[0])\n",
        "print('Test accuracy:', score[1])"
      ],
      "execution_count": 0,
      "outputs": [
        {
          "output_type": "stream",
          "text": [
            "Train on 60000 samples, validate on 10000 samples\n",
            "Epoch 1/10\n",
            "60000/60000 [==============================] - 7s 122us/step - loss: 0.2329 - acc: 0.9290 - val_loss: 0.1027 - val_acc: 0.9665\n",
            "Epoch 2/10\n",
            "60000/60000 [==============================] - 7s 118us/step - loss: 0.0867 - acc: 0.9733 - val_loss: 0.0799 - val_acc: 0.9754\n",
            "Epoch 3/10\n",
            "60000/60000 [==============================] - 7s 117us/step - loss: 0.0557 - acc: 0.9827 - val_loss: 0.0863 - val_acc: 0.9758\n",
            "Epoch 4/10\n",
            "60000/60000 [==============================] - 7s 118us/step - loss: 0.0407 - acc: 0.9868 - val_loss: 0.0794 - val_acc: 0.9771\n",
            "Epoch 5/10\n",
            "60000/60000 [==============================] - 7s 119us/step - loss: 0.0312 - acc: 0.9899 - val_loss: 0.0767 - val_acc: 0.9801\n",
            "Epoch 6/10\n",
            "60000/60000 [==============================] - 7s 118us/step - loss: 0.0231 - acc: 0.9926 - val_loss: 0.0812 - val_acc: 0.9799\n",
            "Epoch 7/10\n",
            "60000/60000 [==============================] - 7s 121us/step - loss: 0.0186 - acc: 0.9940 - val_loss: 0.0844 - val_acc: 0.9812\n",
            "Epoch 8/10\n",
            "60000/60000 [==============================] - 7s 123us/step - loss: 0.0156 - acc: 0.9953 - val_loss: 0.1004 - val_acc: 0.9775\n",
            "Epoch 9/10\n",
            "60000/60000 [==============================] - 7s 123us/step - loss: 0.0129 - acc: 0.9960 - val_loss: 0.1144 - val_acc: 0.9782\n",
            "Epoch 10/10\n",
            "60000/60000 [==============================] - 7s 119us/step - loss: 0.0110 - acc: 0.9967 - val_loss: 0.1140 - val_acc: 0.9802\n",
            "Test loss: 0.11401659694737941\n",
            "Test accuracy: 0.9802\n"
          ],
          "name": "stdout"
        }
      ]
    },
    {
      "cell_type": "code",
      "metadata": {
        "id": "R8d2LUpKRJVo",
        "colab_type": "code",
        "outputId": "ca24e468-0b78-432a-f8db-a91ead53d45a",
        "colab": {
          "base_uri": "https://localhost:8080/",
          "height": 426
        }
      },
      "source": [
        "# Build neural network\n",
        "model = models.Sequential()\n",
        "model.add(Dense(512, activation='tanh', input_shape=(NUM_ROWS * NUM_COLS,)))\n",
        "model.add(Dense(256, activation='tanh'))\n",
        "model.add(Dense(10, activation='softmax'))\n",
        "\n",
        "# Compile model\n",
        "model.compile(optimizer='rmsprop',\n",
        "              loss='categorical_crossentropy',\n",
        "              metrics=['accuracy'])\n",
        "\n",
        "# Train model\n",
        "model.fit(X_train, y_train,\n",
        "          batch_size=BATCH_SIZE,\n",
        "          epochs=EPOCHS,\n",
        "          verbose=1,\n",
        "          validation_data=(X_test, y_test))\n",
        "\n",
        "score = model.evaluate(X_test, y_test, verbose=0)\n",
        "print('Test loss:', score[0])\n",
        "print('Test accuracy:', score[1])"
      ],
      "execution_count": 0,
      "outputs": [
        {
          "output_type": "stream",
          "text": [
            "Train on 60000 samples, validate on 10000 samples\n",
            "Epoch 1/10\n",
            "60000/60000 [==============================] - 8s 126us/step - loss: 0.2874 - acc: 0.9132 - val_loss: 0.1749 - val_acc: 0.9477\n",
            "Epoch 2/10\n",
            "60000/60000 [==============================] - 7s 118us/step - loss: 0.1224 - acc: 0.9629 - val_loss: 0.1091 - val_acc: 0.9676\n",
            "Epoch 3/10\n",
            "60000/60000 [==============================] - 7s 118us/step - loss: 0.0823 - acc: 0.9746 - val_loss: 0.0913 - val_acc: 0.9706\n",
            "Epoch 4/10\n",
            "60000/60000 [==============================] - 7s 119us/step - loss: 0.0592 - acc: 0.9822 - val_loss: 0.0814 - val_acc: 0.9758\n",
            "Epoch 5/10\n",
            "60000/60000 [==============================] - 7s 119us/step - loss: 0.0431 - acc: 0.9866 - val_loss: 0.0812 - val_acc: 0.9748\n",
            "Epoch 6/10\n",
            "60000/60000 [==============================] - 7s 116us/step - loss: 0.0319 - acc: 0.9905 - val_loss: 0.0656 - val_acc: 0.9796\n",
            "Epoch 7/10\n",
            "60000/60000 [==============================] - 7s 119us/step - loss: 0.0230 - acc: 0.9936 - val_loss: 0.0638 - val_acc: 0.9801\n",
            "Epoch 8/10\n",
            "60000/60000 [==============================] - 7s 117us/step - loss: 0.0176 - acc: 0.9948 - val_loss: 0.0686 - val_acc: 0.9804\n",
            "Epoch 9/10\n",
            "60000/60000 [==============================] - 7s 119us/step - loss: 0.0124 - acc: 0.9964 - val_loss: 0.0717 - val_acc: 0.9804\n",
            "Epoch 10/10\n",
            "60000/60000 [==============================] - 7s 120us/step - loss: 0.0090 - acc: 0.9977 - val_loss: 0.0710 - val_acc: 0.9801\n",
            "Test loss: 0.07098962994700705\n",
            "Test accuracy: 0.9801\n"
          ],
          "name": "stdout"
        }
      ]
    },
    {
      "cell_type": "code",
      "metadata": {
        "id": "FNWj3zdvRLov",
        "colab_type": "code",
        "outputId": "36044453-ee13-4488-d884-81c023c78ba3",
        "colab": {
          "base_uri": "https://localhost:8080/",
          "height": 426
        }
      },
      "source": [
        "# Build neural network\n",
        "model = models.Sequential()\n",
        "model.add(Dense(512, activation='sigmoid', input_shape=(NUM_ROWS * NUM_COLS,)))\n",
        "model.add(Dense(256, activation='sigmoid'))\n",
        "model.add(Dense(10, activation='softmax'))\n",
        "\n",
        "# Compile model\n",
        "model.compile(optimizer='rmsprop',\n",
        "              loss='categorical_crossentropy',\n",
        "              metrics=['accuracy'])\n",
        "\n",
        "# Train model\n",
        "model.fit(X_train, y_train,\n",
        "          batch_size=BATCH_SIZE,\n",
        "          epochs=EPOCHS,\n",
        "          verbose=1,\n",
        "          validation_data=(X_test, y_test))\n",
        "\n",
        "score = model.evaluate(X_test, y_test, verbose=0)\n",
        "print('Test loss:', score[0])\n",
        "print('Test accuracy:', score[1])"
      ],
      "execution_count": 0,
      "outputs": [
        {
          "output_type": "stream",
          "text": [
            "Train on 60000 samples, validate on 10000 samples\n",
            "Epoch 1/10\n",
            "60000/60000 [==============================] - 8s 129us/step - loss: 0.4875 - acc: 0.8598 - val_loss: 0.2726 - val_acc: 0.9147\n",
            "Epoch 2/10\n",
            "60000/60000 [==============================] - 7s 119us/step - loss: 0.2170 - acc: 0.9352 - val_loss: 0.1879 - val_acc: 0.9435\n",
            "Epoch 3/10\n",
            "60000/60000 [==============================] - 7s 120us/step - loss: 0.1561 - acc: 0.9533 - val_loss: 0.1371 - val_acc: 0.9585\n",
            "Epoch 4/10\n",
            "60000/60000 [==============================] - 7s 117us/step - loss: 0.1180 - acc: 0.9640 - val_loss: 0.1099 - val_acc: 0.9654\n",
            "Epoch 5/10\n",
            "60000/60000 [==============================] - 7s 118us/step - loss: 0.0921 - acc: 0.9720 - val_loss: 0.1011 - val_acc: 0.9693\n",
            "Epoch 6/10\n",
            "60000/60000 [==============================] - 7s 119us/step - loss: 0.0744 - acc: 0.9769 - val_loss: 0.0946 - val_acc: 0.9718\n",
            "Epoch 7/10\n",
            "60000/60000 [==============================] - 7s 119us/step - loss: 0.0630 - acc: 0.9805 - val_loss: 0.0934 - val_acc: 0.9728\n",
            "Epoch 8/10\n",
            "60000/60000 [==============================] - 7s 121us/step - loss: 0.0519 - acc: 0.9840 - val_loss: 0.0727 - val_acc: 0.9780\n",
            "Epoch 9/10\n",
            "60000/60000 [==============================] - 7s 119us/step - loss: 0.0436 - acc: 0.9867 - val_loss: 0.0746 - val_acc: 0.9773\n",
            "Epoch 10/10\n",
            "60000/60000 [==============================] - 7s 120us/step - loss: 0.0371 - acc: 0.9883 - val_loss: 0.0692 - val_acc: 0.9804\n",
            "Test loss: 0.0691812082039658\n",
            "Test accuracy: 0.9804\n"
          ],
          "name": "stdout"
        }
      ]
    },
    {
      "cell_type": "code",
      "metadata": {
        "id": "yCZx48k1RORi",
        "colab_type": "code",
        "outputId": "46ea735d-5361-455f-ae0c-927cef151a67",
        "colab": {
          "base_uri": "https://localhost:8080/",
          "height": 426
        }
      },
      "source": [
        "# Build neural network\n",
        "model = models.Sequential()\n",
        "model.add(Dense(512, activation='hard_sigmoid', input_shape=(NUM_ROWS * NUM_COLS,)))\n",
        "model.add(Dense(256, activation='hard_sigmoid'))\n",
        "model.add(Dense(10, activation='softmax'))\n",
        "\n",
        "# Compile model\n",
        "model.compile(optimizer='rmsprop',\n",
        "              loss='categorical_crossentropy',\n",
        "              metrics=['accuracy'])\n",
        "\n",
        "# Train model\n",
        "model.fit(X_train, y_train,\n",
        "          batch_size=BATCH_SIZE,\n",
        "          epochs=EPOCHS,\n",
        "          verbose=1,\n",
        "          validation_data=(X_test, y_test))\n",
        "\n",
        "score = model.evaluate(X_test, y_test, verbose=0)\n",
        "print('Test loss:', score[0])\n",
        "print('Test accuracy:', score[1])"
      ],
      "execution_count": 0,
      "outputs": [
        {
          "output_type": "stream",
          "text": [
            "Train on 60000 samples, validate on 10000 samples\n",
            "Epoch 1/10\n",
            "60000/60000 [==============================] - 8s 137us/step - loss: 0.4983 - acc: 0.8548 - val_loss: 0.2510 - val_acc: 0.9225\n",
            "Epoch 2/10\n",
            "60000/60000 [==============================] - 7s 124us/step - loss: 0.2138 - acc: 0.9355 - val_loss: 0.1724 - val_acc: 0.9481\n",
            "Epoch 3/10\n",
            "60000/60000 [==============================] - 8s 126us/step - loss: 0.1494 - acc: 0.9549 - val_loss: 0.1327 - val_acc: 0.9594\n",
            "Epoch 4/10\n",
            "60000/60000 [==============================] - 7s 123us/step - loss: 0.1117 - acc: 0.9663 - val_loss: 0.1140 - val_acc: 0.9648\n",
            "Epoch 5/10\n",
            "60000/60000 [==============================] - 8s 126us/step - loss: 0.0868 - acc: 0.9736 - val_loss: 0.0954 - val_acc: 0.9702\n",
            "Epoch 6/10\n",
            "60000/60000 [==============================] - 8s 127us/step - loss: 0.0693 - acc: 0.9792 - val_loss: 0.0876 - val_acc: 0.9730\n",
            "Epoch 7/10\n",
            "60000/60000 [==============================] - 8s 125us/step - loss: 0.0573 - acc: 0.9824 - val_loss: 0.0916 - val_acc: 0.9718\n",
            "Epoch 8/10\n",
            "60000/60000 [==============================] - 8s 127us/step - loss: 0.0461 - acc: 0.9857 - val_loss: 0.0748 - val_acc: 0.9761\n",
            "Epoch 9/10\n",
            "60000/60000 [==============================] - 8s 126us/step - loss: 0.0381 - acc: 0.9884 - val_loss: 0.0696 - val_acc: 0.9787\n",
            "Epoch 10/10\n",
            "60000/60000 [==============================] - 7s 125us/step - loss: 0.0314 - acc: 0.9903 - val_loss: 0.0698 - val_acc: 0.9788\n",
            "Test loss: 0.06979523116997444\n",
            "Test accuracy: 0.9788\n"
          ],
          "name": "stdout"
        }
      ]
    },
    {
      "cell_type": "code",
      "metadata": {
        "id": "oKM-E0y8RQzz",
        "colab_type": "code",
        "outputId": "7dd2ba85-c4b1-445c-d577-0d53301eef95",
        "colab": {
          "base_uri": "https://localhost:8080/",
          "height": 426
        }
      },
      "source": [
        "# Build neural network\n",
        "model = models.Sequential()\n",
        "model.add(Dense(512, activation='exponential', input_shape=(NUM_ROWS * NUM_COLS,)))\n",
        "model.add(Dense(256, activation='exponential'))\n",
        "model.add(Dense(10, activation='softmax'))\n",
        "\n",
        "# Compile model\n",
        "model.compile(optimizer='rmsprop',\n",
        "              loss='categorical_crossentropy',\n",
        "              metrics=['accuracy'])\n",
        "\n",
        "# Train model\n",
        "model.fit(X_train, y_train,\n",
        "          batch_size=BATCH_SIZE,\n",
        "          epochs=EPOCHS,\n",
        "          verbose=1,\n",
        "          validation_data=(X_test, y_test))\n",
        "\n",
        "score = model.evaluate(X_test, y_test, verbose=0)\n",
        "print('Test loss:', score[0])\n",
        "print('Test accuracy:', score[1])"
      ],
      "execution_count": 0,
      "outputs": [
        {
          "output_type": "stream",
          "text": [
            "Train on 60000 samples, validate on 10000 samples\n",
            "Epoch 1/10\n",
            "60000/60000 [==============================] - 8s 130us/step - loss: 14.5378 - acc: 0.0973 - val_loss: 14.5353 - val_acc: 0.0982\n",
            "Epoch 2/10\n",
            "60000/60000 [==============================] - 7s 116us/step - loss: 14.5487 - acc: 0.0974 - val_loss: 14.5353 - val_acc: 0.0982\n",
            "Epoch 3/10\n",
            "60000/60000 [==============================] - 7s 117us/step - loss: 14.5487 - acc: 0.0974 - val_loss: 14.5353 - val_acc: 0.0982\n",
            "Epoch 4/10\n",
            "60000/60000 [==============================] - 7s 119us/step - loss: 14.5487 - acc: 0.0974 - val_loss: 14.5353 - val_acc: 0.0982\n",
            "Epoch 5/10\n",
            "60000/60000 [==============================] - 7s 119us/step - loss: 14.5487 - acc: 0.0974 - val_loss: 14.5353 - val_acc: 0.0982\n",
            "Epoch 6/10\n",
            "60000/60000 [==============================] - 7s 119us/step - loss: 14.5487 - acc: 0.0974 - val_loss: 14.5353 - val_acc: 0.0982\n",
            "Epoch 7/10\n",
            "60000/60000 [==============================] - 7s 121us/step - loss: 14.5487 - acc: 0.0974 - val_loss: 14.5353 - val_acc: 0.0982\n",
            "Epoch 8/10\n",
            "60000/60000 [==============================] - 7s 117us/step - loss: 14.5487 - acc: 0.0974 - val_loss: 14.5353 - val_acc: 0.0982\n",
            "Epoch 9/10\n",
            "60000/60000 [==============================] - 7s 120us/step - loss: 14.5487 - acc: 0.0974 - val_loss: 14.5353 - val_acc: 0.0982\n",
            "Epoch 10/10\n",
            "60000/60000 [==============================] - 7s 124us/step - loss: 14.5487 - acc: 0.0974 - val_loss: 14.5353 - val_acc: 0.0982\n",
            "Test loss: 14.535298265075683\n",
            "Test accuracy: 0.0982\n"
          ],
          "name": "stdout"
        }
      ]
    },
    {
      "cell_type": "code",
      "metadata": {
        "id": "Y-U4en4uRYTZ",
        "colab_type": "code",
        "outputId": "5b00c4fa-8a0d-49bb-81b2-5f0e82bc756e",
        "colab": {
          "base_uri": "https://localhost:8080/",
          "height": 426
        }
      },
      "source": [
        "# Build neural network\n",
        "model = models.Sequential()\n",
        "model.add(Dense(512, activation='linear', input_shape=(NUM_ROWS * NUM_COLS,)))\n",
        "model.add(Dense(256, activation='linear'))\n",
        "model.add(Dense(10, activation='softmax'))\n",
        "\n",
        "# Compile model\n",
        "model.compile(optimizer='rmsprop',\n",
        "              loss='categorical_crossentropy',\n",
        "              metrics=['accuracy'])\n",
        "\n",
        "# Train model\n",
        "model.fit(X_train, y_train,\n",
        "          batch_size=BATCH_SIZE,\n",
        "          epochs=EPOCHS,\n",
        "          verbose=1,\n",
        "          validation_data=(X_test, y_test))\n",
        "\n",
        "score = model.evaluate(X_test, y_test, verbose=0)\n",
        "print('Test loss:', score[0])\n",
        "print('Test accuracy:', score[1])"
      ],
      "execution_count": 0,
      "outputs": [
        {
          "output_type": "stream",
          "text": [
            "Train on 60000 samples, validate on 10000 samples\n",
            "Epoch 1/10\n",
            "60000/60000 [==============================] - 8s 136us/step - loss: 0.4310 - acc: 0.8752 - val_loss: 0.3593 - val_acc: 0.8976\n",
            "Epoch 2/10\n",
            "60000/60000 [==============================] - 7s 119us/step - loss: 0.3463 - acc: 0.9026 - val_loss: 0.3316 - val_acc: 0.9042\n",
            "Epoch 3/10\n",
            "60000/60000 [==============================] - 7s 118us/step - loss: 0.3235 - acc: 0.9096 - val_loss: 0.3022 - val_acc: 0.9178\n",
            "Epoch 4/10\n",
            "60000/60000 [==============================] - 7s 119us/step - loss: 0.3124 - acc: 0.9122 - val_loss: 0.3459 - val_acc: 0.9060\n",
            "Epoch 5/10\n",
            "60000/60000 [==============================] - 7s 118us/step - loss: 0.3023 - acc: 0.9159 - val_loss: 0.3242 - val_acc: 0.9044\n",
            "Epoch 6/10\n",
            "60000/60000 [==============================] - 7s 116us/step - loss: 0.2934 - acc: 0.9185 - val_loss: 0.2979 - val_acc: 0.9186\n",
            "Epoch 7/10\n",
            "60000/60000 [==============================] - 7s 118us/step - loss: 0.2917 - acc: 0.9187 - val_loss: 0.3268 - val_acc: 0.9070\n",
            "Epoch 8/10\n",
            "60000/60000 [==============================] - 7s 117us/step - loss: 0.2885 - acc: 0.9196 - val_loss: 0.2927 - val_acc: 0.9203\n",
            "Epoch 9/10\n",
            "60000/60000 [==============================] - 7s 117us/step - loss: 0.2851 - acc: 0.9206 - val_loss: 0.2945 - val_acc: 0.9220\n",
            "Epoch 10/10\n",
            "60000/60000 [==============================] - 7s 118us/step - loss: 0.2835 - acc: 0.9209 - val_loss: 0.3072 - val_acc: 0.9135\n",
            "Test loss: 0.30717785737216474\n",
            "Test accuracy: 0.9135\n"
          ],
          "name": "stdout"
        }
      ]
    },
    {
      "cell_type": "code",
      "metadata": {
        "id": "tD3_jhTpRbEh",
        "colab_type": "code",
        "outputId": "340ca2f4-2951-4f06-eb6c-7a5c25f8d7ae",
        "colab": {
          "base_uri": "https://localhost:8080/",
          "height": 481
        }
      },
      "source": [
        "# Build neural network\n",
        "model = models.Sequential()\n",
        "model.add(Dense(512, activation=keras.layers.LeakyReLU(alpha=0.3), input_shape=(NUM_ROWS * NUM_COLS,)))\n",
        "model.add(Dense(256, activation=keras.layers.LeakyReLU(alpha=0.3)))\n",
        "model.add(Dense(10, activation='softmax'))\n",
        "\n",
        "# Compile model\n",
        "model.compile(optimizer='rmsprop',\n",
        "              loss='categorical_crossentropy',\n",
        "              metrics=['accuracy'])\n",
        "\n",
        "# Train model\n",
        "model.fit(X_train, y_train,\n",
        "          batch_size=BATCH_SIZE,\n",
        "          epochs=EPOCHS,\n",
        "          verbose=1,\n",
        "          validation_data=(X_test, y_test))\n",
        "\n",
        "score = model.evaluate(X_test, y_test, verbose=0)\n",
        "print('Test loss:', score[0])\n",
        "print('Test accuracy:', score[1])"
      ],
      "execution_count": 0,
      "outputs": [
        {
          "output_type": "stream",
          "text": [
            "/usr/local/lib/python3.6/dist-packages/keras/activations.py:235: UserWarning: Do not pass a layer instance (such as LeakyReLU) as the activation argument of another layer. Instead, advanced activation layers should be used just like any other layer in a model.\n",
            "  identifier=identifier.__class__.__name__))\n"
          ],
          "name": "stderr"
        },
        {
          "output_type": "stream",
          "text": [
            "Train on 60000 samples, validate on 10000 samples\n",
            "Epoch 1/10\n",
            "60000/60000 [==============================] - 8s 136us/step - loss: 0.2683 - acc: 0.9177 - val_loss: 0.1620 - val_acc: 0.9487\n",
            "Epoch 2/10\n",
            "60000/60000 [==============================] - 7s 122us/step - loss: 0.1274 - acc: 0.9613 - val_loss: 0.1178 - val_acc: 0.9644\n",
            "Epoch 3/10\n",
            "60000/60000 [==============================] - 7s 121us/step - loss: 0.0930 - acc: 0.9710 - val_loss: 0.1070 - val_acc: 0.9705\n",
            "Epoch 4/10\n",
            "60000/60000 [==============================] - 7s 121us/step - loss: 0.0743 - acc: 0.9764 - val_loss: 0.1195 - val_acc: 0.9676\n",
            "Epoch 5/10\n",
            "60000/60000 [==============================] - 7s 121us/step - loss: 0.0638 - acc: 0.9799 - val_loss: 0.0821 - val_acc: 0.9760\n",
            "Epoch 6/10\n",
            "60000/60000 [==============================] - 7s 121us/step - loss: 0.0562 - acc: 0.9829 - val_loss: 0.0947 - val_acc: 0.9735\n",
            "Epoch 7/10\n",
            "60000/60000 [==============================] - 7s 119us/step - loss: 0.0483 - acc: 0.9844 - val_loss: 0.0830 - val_acc: 0.9785\n",
            "Epoch 8/10\n",
            "60000/60000 [==============================] - 7s 121us/step - loss: 0.0443 - acc: 0.9858 - val_loss: 0.0847 - val_acc: 0.9767\n",
            "Epoch 9/10\n",
            "60000/60000 [==============================] - 7s 121us/step - loss: 0.0383 - acc: 0.9881 - val_loss: 0.1105 - val_acc: 0.9725\n",
            "Epoch 10/10\n",
            "60000/60000 [==============================] - 7s 121us/step - loss: 0.0357 - acc: 0.9886 - val_loss: 0.0835 - val_acc: 0.9787\n",
            "Test loss: 0.08345968719563716\n",
            "Test accuracy: 0.9787\n"
          ],
          "name": "stdout"
        }
      ]
    },
    {
      "cell_type": "code",
      "metadata": {
        "id": "I7eleAmTRbin",
        "colab_type": "code",
        "outputId": "fd320eea-7f16-4080-becc-e4dfcbe8c423",
        "colab": {
          "base_uri": "https://localhost:8080/",
          "height": 481
        }
      },
      "source": [
        "# Build neural network\n",
        "model = models.Sequential()\n",
        "model.add(Dense(512, activation=keras.layers.PReLU(alpha_initializer='zeros', alpha_regularizer=None, alpha_constraint=None, shared_axes=None)\n",
        ", input_shape=(NUM_ROWS * NUM_COLS,)))\n",
        "model.add(Dense(256, activation=keras.layers.PReLU(alpha_initializer='zeros', alpha_regularizer=None, alpha_constraint=None, shared_axes=None)\n",
        "))\n",
        "model.add(Dense(10, activation='softmax'))\n",
        "\n",
        "# Compile model\n",
        "model.compile(optimizer='rmsprop',\n",
        "              loss='categorical_crossentropy',\n",
        "              metrics=['accuracy'])\n",
        "\n",
        "# Train model\n",
        "model.fit(X_train, y_train,\n",
        "          batch_size=BATCH_SIZE,\n",
        "          epochs=EPOCHS,\n",
        "          verbose=1,\n",
        "          validation_data=(X_test, y_test))\n",
        "\n",
        "score = model.evaluate(X_test, y_test, verbose=0)\n",
        "print('Test loss:', score[0])\n",
        "print('Test accuracy:', score[1])"
      ],
      "execution_count": 0,
      "outputs": [
        {
          "output_type": "stream",
          "text": [
            "/usr/local/lib/python3.6/dist-packages/keras/activations.py:235: UserWarning: Do not pass a layer instance (such as PReLU) as the activation argument of another layer. Instead, advanced activation layers should be used just like any other layer in a model.\n",
            "  identifier=identifier.__class__.__name__))\n"
          ],
          "name": "stderr"
        },
        {
          "output_type": "stream",
          "text": [
            "Train on 60000 samples, validate on 10000 samples\n",
            "Epoch 1/10\n",
            "60000/60000 [==============================] - 9s 142us/step - loss: 0.2251 - acc: 0.9310 - val_loss: 0.1383 - val_acc: 0.9549\n",
            "Epoch 2/10\n",
            "60000/60000 [==============================] - 8s 126us/step - loss: 0.0850 - acc: 0.9745 - val_loss: 0.0891 - val_acc: 0.9718\n",
            "Epoch 3/10\n",
            "60000/60000 [==============================] - 8s 125us/step - loss: 0.0568 - acc: 0.9823 - val_loss: 0.0829 - val_acc: 0.9756\n",
            "Epoch 4/10\n",
            "60000/60000 [==============================] - 8s 126us/step - loss: 0.0410 - acc: 0.9871 - val_loss: 0.0768 - val_acc: 0.9796\n",
            "Epoch 5/10\n",
            "60000/60000 [==============================] - 8s 126us/step - loss: 0.0311 - acc: 0.9903 - val_loss: 0.0873 - val_acc: 0.9763\n",
            "Epoch 6/10\n",
            "60000/60000 [==============================] - 8s 126us/step - loss: 0.0245 - acc: 0.9923 - val_loss: 0.0793 - val_acc: 0.9820\n",
            "Epoch 7/10\n",
            "60000/60000 [==============================] - 8s 126us/step - loss: 0.0190 - acc: 0.9939 - val_loss: 0.0811 - val_acc: 0.9811\n",
            "Epoch 8/10\n",
            "60000/60000 [==============================] - 8s 127us/step - loss: 0.0160 - acc: 0.9949 - val_loss: 0.0933 - val_acc: 0.9798\n",
            "Epoch 9/10\n",
            "60000/60000 [==============================] - 8s 128us/step - loss: 0.0124 - acc: 0.9961 - val_loss: 0.0998 - val_acc: 0.9819\n",
            "Epoch 10/10\n",
            "60000/60000 [==============================] - 8s 126us/step - loss: 0.0128 - acc: 0.9963 - val_loss: 0.1090 - val_acc: 0.9802\n",
            "Test loss: 0.10904322724803646\n",
            "Test accuracy: 0.9802\n"
          ],
          "name": "stdout"
        }
      ]
    },
    {
      "cell_type": "code",
      "metadata": {
        "id": "XafxtUToRfNP",
        "colab_type": "code",
        "outputId": "46a729e2-9ffc-46e0-e63c-f2dbdbdc5e1f",
        "colab": {
          "base_uri": "https://localhost:8080/",
          "height": 481
        }
      },
      "source": [
        "# Build neural network\n",
        "model = models.Sequential()\n",
        "model.add(Dense(512, activation=keras.layers.ELU(alpha=1.0), input_shape=(NUM_ROWS * NUM_COLS,)))\n",
        "model.add(Dense(256, activation=keras.layers.ELU(alpha=1.0)))\n",
        "model.add(Dense(10, activation='softmax'))\n",
        "\n",
        "# Compile model\n",
        "model.compile(optimizer='rmsprop',\n",
        "              loss='categorical_crossentropy',\n",
        "              metrics=['accuracy'])\n",
        "\n",
        "# Train model\n",
        "model.fit(X_train, y_train,\n",
        "          batch_size=BATCH_SIZE,\n",
        "          epochs=EPOCHS,\n",
        "          verbose=1,\n",
        "          validation_data=(X_test, y_test))\n",
        "\n",
        "score = model.evaluate(X_test, y_test, verbose=0)\n",
        "print('Test loss:', score[0])\n",
        "print('Test accuracy:', score[1])\n"
      ],
      "execution_count": 0,
      "outputs": [
        {
          "output_type": "stream",
          "text": [
            "/usr/local/lib/python3.6/dist-packages/keras/activations.py:235: UserWarning: Do not pass a layer instance (such as ELU) as the activation argument of another layer. Instead, advanced activation layers should be used just like any other layer in a model.\n",
            "  identifier=identifier.__class__.__name__))\n"
          ],
          "name": "stderr"
        },
        {
          "output_type": "stream",
          "text": [
            "Train on 60000 samples, validate on 10000 samples\n",
            "Epoch 1/10\n",
            "60000/60000 [==============================] - 8s 138us/step - loss: 0.2874 - acc: 0.9126 - val_loss: 0.2173 - val_acc: 0.9319\n",
            "Epoch 2/10\n",
            "60000/60000 [==============================] - 7s 119us/step - loss: 0.1243 - acc: 0.9618 - val_loss: 0.1177 - val_acc: 0.9599\n",
            "Epoch 3/10\n",
            "60000/60000 [==============================] - 7s 122us/step - loss: 0.0852 - acc: 0.9733 - val_loss: 0.0938 - val_acc: 0.9714\n",
            "Epoch 4/10\n",
            "60000/60000 [==============================] - 7s 123us/step - loss: 0.0646 - acc: 0.9794 - val_loss: 0.1050 - val_acc: 0.9703\n",
            "Epoch 5/10\n",
            "60000/60000 [==============================] - 7s 123us/step - loss: 0.0517 - acc: 0.9836 - val_loss: 0.0912 - val_acc: 0.9716\n",
            "Epoch 6/10\n",
            "60000/60000 [==============================] - 7s 123us/step - loss: 0.0443 - acc: 0.9856 - val_loss: 0.0797 - val_acc: 0.9779\n",
            "Epoch 7/10\n",
            "60000/60000 [==============================] - 7s 122us/step - loss: 0.0353 - acc: 0.9891 - val_loss: 0.0869 - val_acc: 0.9771\n",
            "Epoch 8/10\n",
            "60000/60000 [==============================] - 7s 121us/step - loss: 0.0298 - acc: 0.9903 - val_loss: 0.0773 - val_acc: 0.9799\n",
            "Epoch 9/10\n",
            "60000/60000 [==============================] - 7s 122us/step - loss: 0.0243 - acc: 0.9920 - val_loss: 0.0829 - val_acc: 0.9804\n",
            "Epoch 10/10\n",
            "60000/60000 [==============================] - 7s 121us/step - loss: 0.0208 - acc: 0.9931 - val_loss: 0.0937 - val_acc: 0.9779\n",
            "Test loss: 0.09365389936841748\n",
            "Test accuracy: 0.9779\n"
          ],
          "name": "stdout"
        }
      ]
    },
    {
      "cell_type": "code",
      "metadata": {
        "id": "glJCQEZeRitT",
        "colab_type": "code",
        "outputId": "305b4823-e287-4519-abe3-ce2bac095045",
        "colab": {
          "base_uri": "https://localhost:8080/",
          "height": 481
        }
      },
      "source": [
        "# Build neural network\n",
        "model = models.Sequential()\n",
        "model.add(Dense(512, activation=keras.layers.ThresholdedReLU(theta=1.0), input_shape=(NUM_ROWS * NUM_COLS,)))\n",
        "model.add(Dense(256, activation=keras.layers.ThresholdedReLU(theta=1.0)))\n",
        "model.add(Dense(10, activation='softmax'))\n",
        "\n",
        "# Compile model\n",
        "model.compile(optimizer='rmsprop',\n",
        "              loss='categorical_crossentropy',\n",
        "              metrics=['accuracy'])\n",
        "\n",
        "# Train model\n",
        "model.fit(X_train, y_train,\n",
        "          batch_size=BATCH_SIZE,\n",
        "          epochs=EPOCHS,\n",
        "          verbose=1,\n",
        "          validation_data=(X_test, y_test))\n",
        "\n",
        "score = model.evaluate(X_test, y_test, verbose=0)\n",
        "print('Test loss:', score[0])\n",
        "print('Test accuracy:', score[1])"
      ],
      "execution_count": 0,
      "outputs": [
        {
          "output_type": "stream",
          "text": [
            "/usr/local/lib/python3.6/dist-packages/keras/activations.py:235: UserWarning: Do not pass a layer instance (such as ThresholdedReLU) as the activation argument of another layer. Instead, advanced activation layers should be used just like any other layer in a model.\n",
            "  identifier=identifier.__class__.__name__))\n"
          ],
          "name": "stderr"
        },
        {
          "output_type": "stream",
          "text": [
            "Train on 60000 samples, validate on 10000 samples\n",
            "Epoch 1/10\n",
            "60000/60000 [==============================] - 9s 146us/step - loss: 0.4720 - acc: 0.8510 - val_loss: 0.1701 - val_acc: 0.9477\n",
            "Epoch 2/10\n",
            "60000/60000 [==============================] - 8s 135us/step - loss: 0.1466 - acc: 0.9561 - val_loss: 0.1284 - val_acc: 0.9613\n",
            "Epoch 3/10\n",
            "60000/60000 [==============================] - 7s 123us/step - loss: 0.0990 - acc: 0.9703 - val_loss: 0.0897 - val_acc: 0.9714\n",
            "Epoch 4/10\n",
            "60000/60000 [==============================] - 7s 124us/step - loss: 0.0755 - acc: 0.9767 - val_loss: 0.0913 - val_acc: 0.9720\n",
            "Epoch 5/10\n",
            "60000/60000 [==============================] - 7s 125us/step - loss: 0.0608 - acc: 0.9812 - val_loss: 0.0842 - val_acc: 0.9758\n",
            "Epoch 6/10\n",
            "60000/60000 [==============================] - 7s 123us/step - loss: 0.0500 - acc: 0.9842 - val_loss: 0.0743 - val_acc: 0.9770\n",
            "Epoch 7/10\n",
            "60000/60000 [==============================] - 7s 123us/step - loss: 0.0412 - acc: 0.9872 - val_loss: 0.0774 - val_acc: 0.9772\n",
            "Epoch 8/10\n",
            "60000/60000 [==============================] - 7s 121us/step - loss: 0.0347 - acc: 0.9888 - val_loss: 0.0813 - val_acc: 0.9785\n",
            "Epoch 9/10\n",
            "60000/60000 [==============================] - 7s 123us/step - loss: 0.0299 - acc: 0.9907 - val_loss: 0.0858 - val_acc: 0.9767\n",
            "Epoch 10/10\n",
            "60000/60000 [==============================] - 8s 125us/step - loss: 0.0254 - acc: 0.9922 - val_loss: 0.0796 - val_acc: 0.9793\n",
            "Test loss: 0.0796231127641704\n",
            "Test accuracy: 0.9793\n"
          ],
          "name": "stdout"
        }
      ]
    },
    {
      "cell_type": "code",
      "metadata": {
        "id": "335e_Yh2Rmy3",
        "colab_type": "code",
        "outputId": "ae63aaf0-d2bb-45d6-9f4c-3d582def7b46",
        "colab": {
          "base_uri": "https://localhost:8080/",
          "height": 481
        }
      },
      "source": [
        "# Build neural network\n",
        "model = models.Sequential()\n",
        "model.add(Dense(512, activation=keras.layers.Softmax(axis=-1), input_shape=(NUM_ROWS * NUM_COLS,)))\n",
        "model.add(Dense(256, activation=keras.layers.Softmax(axis=-1)))\n",
        "model.add(Dense(10, activation='softmax'))\n",
        "\n",
        "# Compile model\n",
        "model.compile(optimizer='rmsprop',\n",
        "              loss='categorical_crossentropy',\n",
        "              metrics=['accuracy'])\n",
        "\n",
        "# Train model\n",
        "model.fit(X_train, y_train,\n",
        "          batch_size=BATCH_SIZE,\n",
        "          epochs=EPOCHS,\n",
        "          verbose=1,\n",
        "          validation_data=(X_test, y_test))\n",
        "\n",
        "score = model.evaluate(X_test, y_test, verbose=0)\n",
        "print('Test loss:', score[0])\n",
        "print('Test accuracy:', score[1])"
      ],
      "execution_count": 0,
      "outputs": [
        {
          "output_type": "stream",
          "text": [
            "/usr/local/lib/python3.6/dist-packages/keras/activations.py:235: UserWarning: Do not pass a layer instance (such as Softmax) as the activation argument of another layer. Instead, advanced activation layers should be used just like any other layer in a model.\n",
            "  identifier=identifier.__class__.__name__))\n"
          ],
          "name": "stderr"
        },
        {
          "output_type": "stream",
          "text": [
            "Train on 60000 samples, validate on 10000 samples\n",
            "Epoch 1/10\n",
            "60000/60000 [==============================] - 9s 143us/step - loss: 2.2697 - acc: 0.1997 - val_loss: 2.1976 - val_acc: 0.6927\n",
            "Epoch 2/10\n",
            "60000/60000 [==============================] - 7s 123us/step - loss: 2.0456 - acc: 0.7670 - val_loss: 1.8603 - val_acc: 0.8196\n",
            "Epoch 3/10\n",
            "60000/60000 [==============================] - 7s 122us/step - loss: 1.6499 - acc: 0.8201 - val_loss: 1.4316 - val_acc: 0.8294\n",
            "Epoch 4/10\n",
            "60000/60000 [==============================] - 7s 122us/step - loss: 1.2309 - acc: 0.8293 - val_loss: 1.0370 - val_acc: 0.8337\n",
            "Epoch 5/10\n",
            "60000/60000 [==============================] - 7s 123us/step - loss: 0.8835 - acc: 0.8335 - val_loss: 0.7435 - val_acc: 0.8381\n",
            "Epoch 6/10\n",
            "60000/60000 [==============================] - 7s 119us/step - loss: 0.6490 - acc: 0.8401 - val_loss: 0.5694 - val_acc: 0.8492\n",
            "Epoch 7/10\n",
            "60000/60000 [==============================] - 7s 121us/step - loss: 0.5219 - acc: 0.8497 - val_loss: 0.4822 - val_acc: 0.8498\n",
            "Epoch 8/10\n",
            "60000/60000 [==============================] - 7s 124us/step - loss: 0.4582 - acc: 0.8545 - val_loss: 0.4408 - val_acc: 0.8522\n",
            "Epoch 9/10\n",
            "60000/60000 [==============================] - 7s 124us/step - loss: 0.4238 - acc: 0.8617 - val_loss: 0.4189 - val_acc: 0.8599\n",
            "Epoch 10/10\n",
            "60000/60000 [==============================] - 7s 123us/step - loss: 0.4027 - acc: 0.8655 - val_loss: 0.4074 - val_acc: 0.8667\n",
            "Test loss: 0.4074238629102707\n",
            "Test accuracy: 0.8667\n"
          ],
          "name": "stdout"
        }
      ]
    },
    {
      "cell_type": "code",
      "metadata": {
        "id": "89K_Kpn0RphL",
        "colab_type": "code",
        "outputId": "c6c8e144-a8b4-44af-bc85-a0f5e8676c21",
        "colab": {
          "base_uri": "https://localhost:8080/",
          "height": 481
        }
      },
      "source": [
        "# Build neural network\n",
        "model = models.Sequential()\n",
        "model.add(Dense(512, activation=keras.layers.ReLU(max_value=None, negative_slope=0.0, threshold=0.0)\n",
        ", input_shape=(NUM_ROWS * NUM_COLS,)))\n",
        "model.add(Dense(256, activation=keras.layers.ReLU(max_value=None, negative_slope=0.0, threshold=0.0)\n",
        "))\n",
        "model.add(Dense(10, activation='softmax'))\n",
        "\n",
        "# Compile model\n",
        "model.compile(optimizer='rmsprop',\n",
        "              loss='categorical_crossentropy',\n",
        "              metrics=['accuracy'])\n",
        "\n",
        "# Train model\n",
        "model.fit(X_train, y_train,\n",
        "          batch_size=BATCH_SIZE,\n",
        "          epochs=EPOCHS,\n",
        "          verbose=1,\n",
        "          validation_data=(X_test, y_test))\n",
        "\n",
        "score = model.evaluate(X_test, y_test, verbose=0)\n",
        "print('Test loss:', score[0])\n",
        "print('Test accuracy:', score[1])"
      ],
      "execution_count": 0,
      "outputs": [
        {
          "output_type": "stream",
          "text": [
            "/usr/local/lib/python3.6/dist-packages/keras/activations.py:235: UserWarning: Do not pass a layer instance (such as ReLU) as the activation argument of another layer. Instead, advanced activation layers should be used just like any other layer in a model.\n",
            "  identifier=identifier.__class__.__name__))\n"
          ],
          "name": "stderr"
        },
        {
          "output_type": "stream",
          "text": [
            "Train on 60000 samples, validate on 10000 samples\n",
            "Epoch 1/10\n",
            "60000/60000 [==============================] - 8s 137us/step - loss: 0.2272 - acc: 0.9303 - val_loss: 0.1032 - val_acc: 0.9683\n",
            "Epoch 2/10\n",
            "60000/60000 [==============================] - 7s 117us/step - loss: 0.0858 - acc: 0.9737 - val_loss: 0.0846 - val_acc: 0.9739\n",
            "Epoch 3/10\n",
            "60000/60000 [==============================] - 7s 118us/step - loss: 0.0565 - acc: 0.9828 - val_loss: 0.0747 - val_acc: 0.9778\n",
            "Epoch 4/10\n",
            "60000/60000 [==============================] - 7s 116us/step - loss: 0.0403 - acc: 0.9870 - val_loss: 0.0678 - val_acc: 0.9803\n",
            "Epoch 5/10\n",
            "60000/60000 [==============================] - 7s 118us/step - loss: 0.0297 - acc: 0.9904 - val_loss: 0.0828 - val_acc: 0.9783\n",
            "Epoch 6/10\n",
            "60000/60000 [==============================] - 7s 120us/step - loss: 0.0236 - acc: 0.9927 - val_loss: 0.0743 - val_acc: 0.9808\n",
            "Epoch 7/10\n",
            "60000/60000 [==============================] - 7s 120us/step - loss: 0.0185 - acc: 0.9943 - val_loss: 0.0850 - val_acc: 0.9803\n",
            "Epoch 8/10\n",
            "60000/60000 [==============================] - 7s 119us/step - loss: 0.0161 - acc: 0.9951 - val_loss: 0.0817 - val_acc: 0.9840\n",
            "Epoch 9/10\n",
            "60000/60000 [==============================] - 7s 119us/step - loss: 0.0118 - acc: 0.9964 - val_loss: 0.0862 - val_acc: 0.9835\n",
            "Epoch 10/10\n",
            "60000/60000 [==============================] - 7s 118us/step - loss: 0.0113 - acc: 0.9964 - val_loss: 0.0917 - val_acc: 0.9834\n",
            "Test loss: 0.09169162973858058\n",
            "Test accuracy: 0.9834\n"
          ],
          "name": "stdout"
        }
      ]
    },
    {
      "cell_type": "markdown",
      "metadata": {
        "id": "6IkXsxe_R3Wy",
        "colab_type": "text"
      },
      "source": [
        "relu\n",
        "\n",
        "Test loss: 0.08459654634964409\n",
        "\n",
        "Test accuracy: 0.9799\n",
        "\n",
        "softmax\n",
        "\n",
        "Test loss: 0.39845509810447693\n",
        "\n",
        "Test accuracy: 0.8642\n",
        "\n",
        "selu\n",
        "\n",
        "Test loss: 0.11848029121595427\n",
        "\n",
        "Test accuracy: 0.9726\n",
        "\n",
        "softplus\n",
        "\n",
        "Test loss: 0.08013557475531798\n",
        "\n",
        "Test accuracy: 0.9798\n",
        "\n",
        "softsign\n",
        "\n",
        "Test loss: 0.07156896027913608\n",
        "\n",
        "Test accuracy: 0.9793\n",
        "\n",
        "relu\n",
        "\n",
        "Test loss: 0.09273777272929686\n",
        "\n",
        "Test accuracy: 0.9843\n",
        "\n",
        "tanh\n",
        "\n",
        "Test loss: 0.06885148700817954\n",
        "\n",
        "Test accuracy: 0.9803\n",
        "\n",
        "sigmoid\n",
        "\n",
        "Test loss: 0.07136517209208104\n",
        "\n",
        "Test accuracy: 0.9781\n",
        "\n",
        "hard_sigmoid\n",
        "\n",
        "Test loss: 0.06968761095895898\n",
        "\n",
        "Test accuracy: 0.9795\n",
        "\n",
        "exponential\n",
        "\n",
        "Test loss: 14.573981648254394\n",
        "\n",
        "Test accuracy: 0.0958\n",
        "\n",
        "linear\n",
        "\n",
        "Test loss: 0.30165807257443666\n",
        "\n",
        "Test accuracy: 0.9158\n",
        "\n",
        "LeakyReLU\n",
        "\n",
        "Test loss: 0.11553157684192265\n",
        "\n",
        "Test accuracy: 0.9709\n",
        "\n",
        "PReLU\n",
        "\n",
        "Test loss: 0.11553157684192265\n",
        "\n",
        "Test accuracy: 0.9709\n",
        "\n",
        "ELU\n",
        "\n",
        "Test loss: 0.1115254690002792\n",
        "\n",
        "Test accuracy: 0.9743\n",
        "\n",
        "ThresholdedReLU\n",
        "\n",
        "Test loss: 0.08483904730657359\n",
        "\n",
        "Test accuracy: 0.9786\n",
        "\n",
        "Softmax\n",
        "\n",
        "Test loss: 0.2818538703083992\n",
        "\n",
        "Test accuracy: 0.9333\n",
        "\n",
        "ReLU\n",
        "\n",
        "Test loss: 0.09205757192509677\n",
        "\n",
        "Test accuracy: 0.9829"
      ]
    },
    {
      "cell_type": "code",
      "metadata": {
        "id": "wM3oot4tRvvm",
        "colab_type": "code",
        "outputId": "eef09042-0247-45e5-e65f-70e616a58bd9",
        "colab": {
          "base_uri": "https://localhost:8080/",
          "height": 624
        }
      },
      "source": [
        "import keras\n",
        "from keras import models\n",
        "from keras.layers import Dense, Dropout\n",
        "from keras.utils import to_categorical\n",
        "from keras.datasets import fashion_mnist\n",
        "from keras.utils.vis_utils import model_to_dot\n",
        "from IPython.display import SVG\n",
        "from keras.layers import Activation, Flatten, Conv2D\n",
        "\n",
        "NUM_ROWS = 28\n",
        "NUM_COLS = 28\n",
        "NUM_CLASSES = 10\n",
        "BATCH_SIZE = 128\n",
        "EPOCHS = 10\n",
        "\n",
        "# Load data\n",
        "(X_train, y_train), (X_test, y_test) = fashion_mnist.load_data()\n",
        "\n",
        "# Reshape data\n",
        "X_train = X_train.reshape((X_train.shape[0], 28, 28, 1))\n",
        "X_train = X_train.astype('float32') / 255\n",
        "X_test = X_test.reshape((X_test.shape[0], 28, 28, 1))\n",
        "X_test = X_test.astype('float32') / 255\n",
        "\n",
        "\n",
        "\n",
        "# Categorically encode labels\n",
        "y_train = to_categorical(y_train, NUM_CLASSES)\n",
        "y_test = to_categorical(y_test, NUM_CLASSES)\n",
        "\n",
        "# Build neural network\n",
        "model = models.Sequential()\n",
        "model.add(Conv2D(512, (28, 28), padding=\"valid\", activation=keras.layers.ReLU(max_value=None, negative_slope=0.0, threshold=0.0), input_shape=X_train.shape[1:]))\n",
        "model.add(Flatten())\n",
        "model.add(Dense(512, activation=keras.layers.ReLU(max_value=None, negative_slope=0.0, threshold=0.0)\n",
        ", input_shape=(NUM_ROWS * NUM_COLS,)))\n",
        "model.add(Dense(256, activation=keras.layers.ReLU(max_value=None, negative_slope=0.0, threshold=0.0)\n",
        "))\n",
        "model.add(Dense(10, activation='softmax'))\n",
        "\n",
        "# Compile model\n",
        "model.compile(optimizer='rmsprop',\n",
        "              loss='categorical_crossentropy',\n",
        "              metrics=['accuracy'])\n",
        "\n",
        "# Train model\n",
        "model.fit(X_train, y_train,\n",
        "          batch_size=BATCH_SIZE,\n",
        "          epochs=EPOCHS,\n",
        "          verbose=1,\n",
        "          validation_data=(X_test, y_test))\n",
        "\n",
        "score = model.evaluate(X_test, y_test, verbose=0)\n",
        "print('Test loss:', score[0])\n",
        "print('Test accuracy:', score[1])"
      ],
      "execution_count": 0,
      "outputs": [
        {
          "output_type": "stream",
          "text": [
            "Downloading data from http://fashion-mnist.s3-website.eu-central-1.amazonaws.com/train-labels-idx1-ubyte.gz\n",
            "32768/29515 [=================================] - 0s 3us/step\n",
            "Downloading data from http://fashion-mnist.s3-website.eu-central-1.amazonaws.com/train-images-idx3-ubyte.gz\n",
            "26427392/26421880 [==============================] - 2s 0us/step\n",
            "Downloading data from http://fashion-mnist.s3-website.eu-central-1.amazonaws.com/t10k-labels-idx1-ubyte.gz\n",
            "8192/5148 [===============================================] - 0s 0us/step\n",
            "Downloading data from http://fashion-mnist.s3-website.eu-central-1.amazonaws.com/t10k-images-idx3-ubyte.gz\n",
            "4423680/4422102 [==============================] - 1s 0us/step\n"
          ],
          "name": "stdout"
        },
        {
          "output_type": "stream",
          "text": [
            "/usr/local/lib/python3.6/dist-packages/keras/activations.py:235: UserWarning: Do not pass a layer instance (such as ReLU) as the activation argument of another layer. Instead, advanced activation layers should be used just like any other layer in a model.\n",
            "  identifier=identifier.__class__.__name__))\n"
          ],
          "name": "stderr"
        },
        {
          "output_type": "stream",
          "text": [
            "Train on 60000 samples, validate on 10000 samples\n",
            "Epoch 1/10\n",
            "60000/60000 [==============================] - 14s 236us/step - loss: 0.6057 - acc: 0.7746 - val_loss: 0.5649 - val_acc: 0.7894\n",
            "Epoch 2/10\n",
            "60000/60000 [==============================] - 13s 219us/step - loss: 0.4012 - acc: 0.8529 - val_loss: 0.3977 - val_acc: 0.8574\n",
            "Epoch 3/10\n",
            "60000/60000 [==============================] - 13s 217us/step - loss: 0.3561 - acc: 0.8698 - val_loss: 0.3550 - val_acc: 0.8758\n",
            "Epoch 4/10\n",
            "60000/60000 [==============================] - 13s 225us/step - loss: 0.3288 - acc: 0.8794 - val_loss: 0.3850 - val_acc: 0.8621\n",
            "Epoch 5/10\n",
            "60000/60000 [==============================] - 13s 221us/step - loss: 0.3146 - acc: 0.8837 - val_loss: 0.4231 - val_acc: 0.8606\n",
            "Epoch 6/10\n",
            "60000/60000 [==============================] - 13s 221us/step - loss: 0.2994 - acc: 0.8905 - val_loss: 0.3554 - val_acc: 0.8788\n",
            "Epoch 7/10\n",
            "60000/60000 [==============================] - 15s 244us/step - loss: 0.2921 - acc: 0.8923 - val_loss: 0.3904 - val_acc: 0.8695\n",
            "Epoch 8/10\n",
            "60000/60000 [==============================] - 14s 233us/step - loss: 0.2853 - acc: 0.8951 - val_loss: 0.3676 - val_acc: 0.8792\n",
            "Epoch 9/10\n",
            "60000/60000 [==============================] - 13s 222us/step - loss: 0.2755 - acc: 0.8991 - val_loss: 0.3919 - val_acc: 0.8766\n",
            "Epoch 10/10\n",
            "60000/60000 [==============================] - 14s 227us/step - loss: 0.2704 - acc: 0.9007 - val_loss: 0.4036 - val_acc: 0.8796\n",
            "Test loss: 0.4035647269487381\n",
            "Test accuracy: 0.8796\n"
          ],
          "name": "stdout"
        }
      ]
    },
    {
      "cell_type": "markdown",
      "metadata": {
        "id": "tvAEa2RtSdAj",
        "colab_type": "text"
      },
      "source": [
        "FASHION_MNIST\n",
        "\n",
        "Test loss: 0.4138208844304085\n",
        "\n",
        "Test accuracy: 0.8699"
      ]
    },
    {
      "cell_type": "code",
      "metadata": {
        "id": "HOHEuglSR-nv",
        "colab_type": "code",
        "outputId": "190feb13-960f-4783-9d6f-53acbf2ea440",
        "colab": {
          "base_uri": "https://localhost:8080/",
          "height": 1000
        }
      },
      "source": [
        "import keras\n",
        "from keras import models\n",
        "from keras.layers import Dense, Dropout, Conv2D,Flatten\n",
        "from keras.utils import to_categorical\n",
        "from keras.datasets import cifar10\n",
        "from keras.utils.vis_utils import model_to_dot\n",
        "from IPython.display import SVG\n",
        "from keras.preprocessing.image import ImageDataGenerator\n",
        "from keras import optimizers\n",
        "\n",
        "#import dataset\n",
        "(X_train, y_train), (X_test, y_test) = cifar10.load_data()\n",
        "\n",
        "#change shape from image to vector\n",
        "X_train = X_train.reshape(50000,32,32,3)\n",
        "X_test = X_test.reshape(10000,32,32,3)\n",
        "\n",
        "#preprocess\n",
        "X_train = X_train.astype('float32')\n",
        "X_test = X_test.astype('float32')\n",
        "X_train /= 255.0\n",
        "X_test /= 255.0\n",
        "\n",
        "#change labels from numeric to one hot encoded\n",
        "Y_train = to_categorical(y_train, 10)\n",
        "Y_test =  to_categorical(y_test, 10)\n",
        "\n",
        "adamax=keras.optimizers.Adamax(lr=0.002, beta_1=0.9, beta_2=0.999)\n",
        "\n",
        "\n",
        "# Build neural network\n",
        "model = models.Sequential()\n",
        "model.add(Conv2D(1024, (32, 32), padding=\"valid\", activation=keras.layers.ReLU(max_value=None, negative_slope=0.0, threshold=0.0), input_shape=X_train.shape[1:]))\n",
        "model.add(Flatten())\n",
        "model.add(Dense(512, activation=keras.layers.ReLU(max_value=None, negative_slope=0.0, threshold=0.0)\n",
        ", input_shape=(32 * 32,)))\n",
        "model.add(Dense(256, activation=keras.layers.ReLU(max_value=None, negative_slope=0.0, threshold=0.0)\n",
        "))\n",
        "model.add(Dense(10, activation='softmax'))\n",
        "\n",
        "# Compile model\n",
        "model.compile(optimizer='adamax',\n",
        "              loss='categorical_crossentropy',\n",
        "              metrics=['accuracy'])\n",
        "\n",
        "# Train model\n",
        "model.fit(X_train, Y_train,\n",
        "          batch_size=128,\n",
        "          epochs=10,\n",
        "          verbose=1,\n",
        "          validation_data=(X_test, Y_test))\n",
        "\n",
        "score = model.evaluate(X_test, Y_test, verbose=0)\n",
        "print('Test loss:', score[0])\n",
        "print('Test accuracy:', score[1])"
      ],
      "execution_count": 0,
      "outputs": [
        {
          "output_type": "stream",
          "text": [
            "Using TensorFlow backend.\n"
          ],
          "name": "stderr"
        },
        {
          "output_type": "display_data",
          "data": {
            "text/html": [
              "<p style=\"color: red;\">\n",
              "The default version of TensorFlow in Colab will soon switch to TensorFlow 2.x.<br>\n",
              "We recommend you <a href=\"https://www.tensorflow.org/guide/migrate\" target=\"_blank\">upgrade</a> now \n",
              "or ensure your notebook will continue to use TensorFlow 1.x via the <code>%tensorflow_version 1.x</code> magic:\n",
              "<a href=\"https://colab.research.google.com/notebooks/tensorflow_version.ipynb\" target=\"_blank\">more info</a>.</p>\n"
            ],
            "text/plain": [
              "<IPython.core.display.HTML object>"
            ]
          },
          "metadata": {
            "tags": []
          }
        },
        {
          "output_type": "stream",
          "text": [
            "Downloading data from https://www.cs.toronto.edu/~kriz/cifar-10-python.tar.gz\n",
            "170500096/170498071 [==============================] - 11s 0us/step\n",
            "WARNING:tensorflow:From /usr/local/lib/python3.6/dist-packages/keras/backend/tensorflow_backend.py:66: The name tf.get_default_graph is deprecated. Please use tf.compat.v1.get_default_graph instead.\n",
            "\n",
            "WARNING:tensorflow:From /usr/local/lib/python3.6/dist-packages/keras/backend/tensorflow_backend.py:541: The name tf.placeholder is deprecated. Please use tf.compat.v1.placeholder instead.\n",
            "\n",
            "WARNING:tensorflow:From /usr/local/lib/python3.6/dist-packages/keras/backend/tensorflow_backend.py:4432: The name tf.random_uniform is deprecated. Please use tf.random.uniform instead.\n",
            "\n",
            "WARNING:tensorflow:From /usr/local/lib/python3.6/dist-packages/keras/optimizers.py:793: The name tf.train.Optimizer is deprecated. Please use tf.compat.v1.train.Optimizer instead.\n",
            "\n",
            "WARNING:tensorflow:From /usr/local/lib/python3.6/dist-packages/keras/backend/tensorflow_backend.py:3576: The name tf.log is deprecated. Please use tf.math.log instead.\n",
            "\n",
            "WARNING:tensorflow:From /usr/local/lib/python3.6/dist-packages/tensorflow_core/python/ops/math_grad.py:1424: where (from tensorflow.python.ops.array_ops) is deprecated and will be removed in a future version.\n",
            "Instructions for updating:\n",
            "Use tf.where in 2.0, which has the same broadcast rule as np.where\n"
          ],
          "name": "stdout"
        },
        {
          "output_type": "stream",
          "text": [
            "/usr/local/lib/python3.6/dist-packages/keras/activations.py:235: UserWarning: Do not pass a layer instance (such as ReLU) as the activation argument of another layer. Instead, advanced activation layers should be used just like any other layer in a model.\n",
            "  identifier=identifier.__class__.__name__))\n"
          ],
          "name": "stderr"
        },
        {
          "output_type": "stream",
          "text": [
            "WARNING:tensorflow:From /usr/local/lib/python3.6/dist-packages/keras/backend/tensorflow_backend.py:1033: The name tf.assign_add is deprecated. Please use tf.compat.v1.assign_add instead.\n",
            "\n",
            "WARNING:tensorflow:From /usr/local/lib/python3.6/dist-packages/keras/backend/tensorflow_backend.py:1020: The name tf.assign is deprecated. Please use tf.compat.v1.assign instead.\n",
            "\n",
            "WARNING:tensorflow:From /usr/local/lib/python3.6/dist-packages/keras/backend/tensorflow_backend.py:3005: The name tf.Session is deprecated. Please use tf.compat.v1.Session instead.\n",
            "\n",
            "Train on 50000 samples, validate on 10000 samples\n",
            "Epoch 1/10\n",
            "WARNING:tensorflow:From /usr/local/lib/python3.6/dist-packages/keras/backend/tensorflow_backend.py:190: The name tf.get_default_session is deprecated. Please use tf.compat.v1.get_default_session instead.\n",
            "\n",
            "WARNING:tensorflow:From /usr/local/lib/python3.6/dist-packages/keras/backend/tensorflow_backend.py:197: The name tf.ConfigProto is deprecated. Please use tf.compat.v1.ConfigProto instead.\n",
            "\n",
            "WARNING:tensorflow:From /usr/local/lib/python3.6/dist-packages/keras/backend/tensorflow_backend.py:207: The name tf.global_variables is deprecated. Please use tf.compat.v1.global_variables instead.\n",
            "\n",
            "WARNING:tensorflow:From /usr/local/lib/python3.6/dist-packages/keras/backend/tensorflow_backend.py:216: The name tf.is_variable_initialized is deprecated. Please use tf.compat.v1.is_variable_initialized instead.\n",
            "\n",
            "WARNING:tensorflow:From /usr/local/lib/python3.6/dist-packages/keras/backend/tensorflow_backend.py:223: The name tf.variables_initializer is deprecated. Please use tf.compat.v1.variables_initializer instead.\n",
            "\n",
            "50000/50000 [==============================] - 17s 342us/step - loss: 2.0190 - acc: 0.2931 - val_loss: 1.7905 - val_acc: 0.3582\n",
            "Epoch 2/10\n",
            "50000/50000 [==============================] - 3s 60us/step - loss: 1.7160 - acc: 0.3868 - val_loss: 1.6572 - val_acc: 0.3980\n",
            "Epoch 3/10\n",
            "50000/50000 [==============================] - 3s 59us/step - loss: 1.6237 - acc: 0.4200 - val_loss: 1.6376 - val_acc: 0.4148\n",
            "Epoch 4/10\n",
            "50000/50000 [==============================] - 3s 60us/step - loss: 1.5452 - acc: 0.4490 - val_loss: 1.5281 - val_acc: 0.4622\n",
            "Epoch 5/10\n",
            "50000/50000 [==============================] - 3s 60us/step - loss: 1.4916 - acc: 0.4685 - val_loss: 1.5196 - val_acc: 0.4611\n",
            "Epoch 6/10\n",
            "50000/50000 [==============================] - 3s 61us/step - loss: 1.4501 - acc: 0.4804 - val_loss: 1.4704 - val_acc: 0.4771\n",
            "Epoch 7/10\n",
            "50000/50000 [==============================] - 3s 61us/step - loss: 1.4051 - acc: 0.4999 - val_loss: 1.4850 - val_acc: 0.4687\n",
            "Epoch 8/10\n",
            "50000/50000 [==============================] - 3s 62us/step - loss: 1.3707 - acc: 0.5149 - val_loss: 1.4333 - val_acc: 0.4980\n",
            "Epoch 9/10\n",
            "50000/50000 [==============================] - 3s 62us/step - loss: 1.3334 - acc: 0.5262 - val_loss: 1.4067 - val_acc: 0.5031\n",
            "Epoch 10/10\n",
            "50000/50000 [==============================] - 3s 60us/step - loss: 1.3005 - acc: 0.5375 - val_loss: 1.4076 - val_acc: 0.5023\n",
            "Test loss: 1.4075968185424805\n",
            "Test accuracy: 0.5023\n"
          ],
          "name": "stdout"
        }
      ]
    },
    {
      "cell_type": "markdown",
      "metadata": {
        "id": "OuyiCwHHSlUA",
        "colab_type": "text"
      },
      "source": [
        "CIFAR10\n",
        "\n",
        "Test loss: 1.4009930366516112\n",
        "\n",
        "Test accuracy: 0.4971"
      ]
    },
    {
      "cell_type": "code",
      "metadata": {
        "id": "eE1FW9m0SBfh",
        "colab_type": "code",
        "outputId": "fcff1fc2-8a0e-49d9-fddf-e619ed958b0a",
        "colab": {
          "base_uri": "https://localhost:8080/",
          "height": 517
        }
      },
      "source": [
        "import keras\n",
        "from keras import models\n",
        "from keras.layers import Dense, Dropout, Conv2D,Flatten\n",
        "from keras.utils import to_categorical\n",
        "from keras.datasets import cifar100\n",
        "from keras.utils.vis_utils import model_to_dot\n",
        "from IPython.display import SVG\n",
        "from keras.preprocessing.image import ImageDataGenerator\n",
        "from keras import optimizers\n",
        "\n",
        "#import dataset\n",
        "(X_train, y_train), (X_test, y_test) = cifar100.load_data()\n",
        "\n",
        "#change shape from image to vector\n",
        "X_train = X_train.reshape(50000,32,32,3)\n",
        "X_test = X_test.reshape(10000,32,32,3)\n",
        "\n",
        "#preprocess\n",
        "X_train = X_train.astype('float32')\n",
        "X_test = X_test.astype('float32')\n",
        "X_train /= 255.0\n",
        "X_test /= 255.0\n",
        "\n",
        "#change labels from numeric to one hot encoded\n",
        "Y_train = to_categorical(y_train, 100)\n",
        "Y_test =  to_categorical(y_test, 100)\n",
        "\n",
        "adamax=keras.optimizers.Adamax(lr=0.002, beta_1=0.9, beta_2=0.999)\n",
        "\n",
        "\n",
        "# Build neural network\n",
        "model = models.Sequential()\n",
        "model.add(Conv2D(1024, (32, 32), padding=\"valid\", activation=keras.layers.ReLU(max_value=None, negative_slope=0.0, threshold=0.0), input_shape=X_train.shape[1:]))\n",
        "model.add(Flatten())\n",
        "model.add(Dense(512, activation=keras.layers.ReLU(max_value=None, negative_slope=0.0, threshold=0.0)\n",
        ", input_shape=(32 * 32,)))\n",
        "model.add(Dense(256, activation=keras.layers.ReLU(max_value=None, negative_slope=0.0, threshold=0.0)\n",
        "))\n",
        "model.add(Dense(100, activation='softmax'))\n",
        "\n",
        "# Compile model\n",
        "model.compile(optimizer='adamax',\n",
        "              loss='categorical_crossentropy',\n",
        "              metrics=['accuracy'])\n",
        "\n",
        "# Train model\n",
        "model.fit(X_train, Y_train,\n",
        "          batch_size=128,\n",
        "          epochs=10,\n",
        "          verbose=1,\n",
        "          validation_data=(X_test, Y_test))\n",
        "\n",
        "score = model.evaluate(X_test, Y_test, verbose=0)\n",
        "print('Test loss:', score[0])\n",
        "print('Test accuracy:', score[1])"
      ],
      "execution_count": 0,
      "outputs": [
        {
          "output_type": "stream",
          "text": [
            "Downloading data from https://www.cs.toronto.edu/~kriz/cifar-100-python.tar.gz\n",
            "169009152/169001437 [==============================] - 11s 0us/step\n"
          ],
          "name": "stdout"
        },
        {
          "output_type": "stream",
          "text": [
            "/usr/local/lib/python3.6/dist-packages/keras/activations.py:235: UserWarning: Do not pass a layer instance (such as ReLU) as the activation argument of another layer. Instead, advanced activation layers should be used just like any other layer in a model.\n",
            "  identifier=identifier.__class__.__name__))\n"
          ],
          "name": "stderr"
        },
        {
          "output_type": "stream",
          "text": [
            "Train on 50000 samples, validate on 10000 samples\n",
            "Epoch 1/10\n",
            "50000/50000 [==============================] - 3s 69us/step - loss: 4.3009 - acc: 0.0522 - val_loss: 3.9769 - val_acc: 0.0947\n",
            "Epoch 2/10\n",
            "50000/50000 [==============================] - 3s 63us/step - loss: 3.8355 - acc: 0.1129 - val_loss: 3.7477 - val_acc: 0.1272\n",
            "Epoch 3/10\n",
            "50000/50000 [==============================] - 3s 63us/step - loss: 3.6404 - acc: 0.1462 - val_loss: 3.6055 - val_acc: 0.1534\n",
            "Epoch 4/10\n",
            "50000/50000 [==============================] - 3s 61us/step - loss: 3.5076 - acc: 0.1701 - val_loss: 3.4881 - val_acc: 0.1786\n",
            "Epoch 5/10\n",
            "50000/50000 [==============================] - 3s 62us/step - loss: 3.3982 - acc: 0.1887 - val_loss: 3.4474 - val_acc: 0.1816\n",
            "Epoch 6/10\n",
            "50000/50000 [==============================] - 3s 63us/step - loss: 3.3026 - acc: 0.2066 - val_loss: 3.3710 - val_acc: 0.2018\n",
            "Epoch 7/10\n",
            "50000/50000 [==============================] - 3s 62us/step - loss: 3.2143 - acc: 0.2225 - val_loss: 3.3112 - val_acc: 0.2138\n",
            "Epoch 8/10\n",
            "50000/50000 [==============================] - 3s 62us/step - loss: 3.1293 - acc: 0.2372 - val_loss: 3.3170 - val_acc: 0.2094\n",
            "Epoch 9/10\n",
            "50000/50000 [==============================] - 3s 61us/step - loss: 3.0572 - acc: 0.2510 - val_loss: 3.2668 - val_acc: 0.2227\n",
            "Epoch 10/10\n",
            "50000/50000 [==============================] - 3s 61us/step - loss: 2.9887 - acc: 0.2644 - val_loss: 3.2404 - val_acc: 0.2290\n",
            "Test loss: 3.240391731262207\n",
            "Test accuracy: 0.229\n"
          ],
          "name": "stdout"
        }
      ]
    },
    {
      "cell_type": "markdown",
      "metadata": {
        "id": "4Yz0QRQQSpFa",
        "colab_type": "text"
      },
      "source": [
        "CIFAR100\n",
        "\n",
        "Test loss: 3.242277897644043\n",
        "\n",
        "Test accuracy: 0.2326"
      ]
    }
  ]
}