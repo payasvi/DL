{
  "nbformat": 4,
  "nbformat_minor": 0,
  "metadata": {
    "colab": {
      "name": "Keras losses DL Prac 8(iii).ipynb",
      "provenance": [],
      "collapsed_sections": [],
      "include_colab_link": true
    },
    "kernelspec": {
      "name": "python3",
      "display_name": "Python 3"
    },
    "accelerator": "GPU"
  },
  "cells": [
    {
      "cell_type": "markdown",
      "metadata": {
        "id": "view-in-github",
        "colab_type": "text"
      },
      "source": [
        "<a href=\"https://colab.research.google.com/github/payasvi/dl/blob/master/prac8/Keras_losses_DL_Prac_8(iii).ipynb\" target=\"_parent\"><img src=\"https://colab.research.google.com/assets/colab-badge.svg\" alt=\"Open In Colab\"/></a>"
      ]
    },
    {
      "cell_type": "markdown",
      "metadata": {
        "id": "DZX8anbsht7g",
        "colab_type": "text"
      },
      "source": [
        "#Usage of loss functions\n",
        "\n",
        "A loss function (or objective function, or optimization score function) is one of the two parameters required to compile a model:\n",
        "\n",
        "```\n",
        "model.compile(loss='mean_squared_error', optimizer='sgd')\n",
        "\n",
        "from keras import losses\n",
        "model.compile(loss=losses.mean_squared_error, optimizer='sgd')\n",
        "```\n",
        "\n",
        "You can either pass the name of an existing loss function, or pass a TensorFlow/Theano symbolic function that returns a scalar for each data-point and takes the following two arguments:\n",
        "\n",
        "1. y_true: True labels. TensorFlow/Theano tensor.\n",
        "2. y_pred: Predictions. TensorFlow/Theano tensor of the same shape as y_true.\n",
        "\n",
        "The actual optimized objective is the mean of the output array across all datapoints."
      ]
    },
    {
      "cell_type": "code",
      "metadata": {
        "id": "DJkG-1OvheZp",
        "colab_type": "code",
        "outputId": "43f7276f-281f-47d6-e62c-40dd63ec8fb9",
        "colab": {
          "base_uri": "https://localhost:8080/",
          "height": 224
        }
      },
      "source": [
        "import keras\n",
        "from keras import models\n",
        "from keras.layers import Dense, Dropout\n",
        "from keras.utils import to_categorical\n",
        "from keras.datasets import mnist\n",
        "from keras.utils.vis_utils import model_to_dot\n",
        "from IPython.display import SVG\n",
        "\n",
        "NUM_ROWS = 28\n",
        "NUM_COLS = 28\n",
        "NUM_CLASSES = 10\n",
        "BATCH_SIZE = 128\n",
        "EPOCHS = 10\n",
        "\n",
        "# Load data\n",
        "(X_train, y_train), (X_test, y_test) = mnist.load_data()\n",
        "\n",
        "# Reshape data\n",
        "X_train = X_train.reshape((X_train.shape[0], NUM_ROWS * NUM_COLS))\n",
        "X_train = X_train.astype('float32') / 255\n",
        "X_test = X_test.reshape((X_test.shape[0], NUM_ROWS * NUM_COLS))\n",
        "X_test = X_test.astype('float32') / 255\n",
        "\n",
        "# Categorically encode labels\n",
        "y_train = to_categorical(y_train, NUM_CLASSES)\n",
        "y_test = to_categorical(y_test, NUM_CLASSES)\n",
        "\n",
        "\n",
        "# Build neural network\n",
        "model = models.Sequential()\n",
        "model.add(Dense(512, activation='elu', input_shape=(NUM_ROWS * NUM_COLS,)))\n",
        "model.add(Dense(256, activation='elu'))\n",
        "model.add(Dense(10, activation='softmax'))\n",
        "\n"
      ],
      "execution_count": 0,
      "outputs": [
        {
          "output_type": "stream",
          "text": [
            "Using TensorFlow backend.\n"
          ],
          "name": "stderr"
        },
        {
          "output_type": "display_data",
          "data": {
            "text/html": [
              "<p style=\"color: red;\">\n",
              "The default version of TensorFlow in Colab will soon switch to TensorFlow 2.x.<br>\n",
              "We recommend you <a href=\"https://www.tensorflow.org/guide/migrate\" target=\"_blank\">upgrade</a> now \n",
              "or ensure your notebook will continue to use TensorFlow 1.x via the <code>%tensorflow_version 1.x</code> magic:\n",
              "<a href=\"https://colab.research.google.com/notebooks/tensorflow_version.ipynb\" target=\"_blank\">more info</a>.</p>\n"
            ],
            "text/plain": [
              "<IPython.core.display.HTML object>"
            ]
          },
          "metadata": {
            "tags": []
          }
        },
        {
          "output_type": "stream",
          "text": [
            "Downloading data from https://s3.amazonaws.com/img-datasets/mnist.npz\n",
            "11493376/11490434 [==============================] - 1s 0us/step\n",
            "WARNING:tensorflow:From /usr/local/lib/python3.6/dist-packages/keras/backend/tensorflow_backend.py:66: The name tf.get_default_graph is deprecated. Please use tf.compat.v1.get_default_graph instead.\n",
            "\n",
            "WARNING:tensorflow:From /usr/local/lib/python3.6/dist-packages/keras/backend/tensorflow_backend.py:541: The name tf.placeholder is deprecated. Please use tf.compat.v1.placeholder instead.\n",
            "\n",
            "WARNING:tensorflow:From /usr/local/lib/python3.6/dist-packages/keras/backend/tensorflow_backend.py:4432: The name tf.random_uniform is deprecated. Please use tf.random.uniform instead.\n",
            "\n"
          ],
          "name": "stdout"
        }
      ]
    },
    {
      "cell_type": "markdown",
      "metadata": {
        "id": "N52J4-gdiJSF",
        "colab_type": "text"
      },
      "source": [
        "#mean_squared_error\n",
        "\n",
        "keras.losses.mean_squared_error(y_true, y_pred)"
      ]
    },
    {
      "cell_type": "code",
      "metadata": {
        "id": "rX0QPq4UiMSl",
        "colab_type": "code",
        "outputId": "47ba8e46-a832-4b83-84ea-bad39c2fd366",
        "colab": {
          "base_uri": "https://localhost:8080/",
          "height": 766
        }
      },
      "source": [
        "# Compile model using accuracy\n",
        "model.compile(optimizer='rmsprop',\n",
        "              loss='mean_squared_error',\n",
        "              metrics=['accuracy'])\n",
        "\n",
        "# Train model\n",
        "model.fit(X_train, y_train,\n",
        "          batch_size=BATCH_SIZE,\n",
        "          epochs=EPOCHS,\n",
        "          verbose=1,\n",
        "          validation_data=(X_test, y_test))\n",
        "\n",
        "score = model.evaluate(X_test, y_test, verbose=0)\n",
        "print('Test loss:', score[0])\n",
        "print('Test accuracy:', score[1])"
      ],
      "execution_count": 0,
      "outputs": [
        {
          "output_type": "stream",
          "text": [
            "WARNING:tensorflow:From /usr/local/lib/python3.6/dist-packages/keras/optimizers.py:793: The name tf.train.Optimizer is deprecated. Please use tf.compat.v1.train.Optimizer instead.\n",
            "\n",
            "WARNING:tensorflow:From /usr/local/lib/python3.6/dist-packages/keras/backend/tensorflow_backend.py:1033: The name tf.assign_add is deprecated. Please use tf.compat.v1.assign_add instead.\n",
            "\n",
            "WARNING:tensorflow:From /usr/local/lib/python3.6/dist-packages/keras/backend/tensorflow_backend.py:1020: The name tf.assign is deprecated. Please use tf.compat.v1.assign instead.\n",
            "\n",
            "WARNING:tensorflow:From /usr/local/lib/python3.6/dist-packages/keras/backend/tensorflow_backend.py:3005: The name tf.Session is deprecated. Please use tf.compat.v1.Session instead.\n",
            "\n",
            "Train on 60000 samples, validate on 10000 samples\n",
            "Epoch 1/10\n",
            "WARNING:tensorflow:From /usr/local/lib/python3.6/dist-packages/keras/backend/tensorflow_backend.py:190: The name tf.get_default_session is deprecated. Please use tf.compat.v1.get_default_session instead.\n",
            "\n",
            "WARNING:tensorflow:From /usr/local/lib/python3.6/dist-packages/keras/backend/tensorflow_backend.py:197: The name tf.ConfigProto is deprecated. Please use tf.compat.v1.ConfigProto instead.\n",
            "\n",
            "WARNING:tensorflow:From /usr/local/lib/python3.6/dist-packages/keras/backend/tensorflow_backend.py:207: The name tf.global_variables is deprecated. Please use tf.compat.v1.global_variables instead.\n",
            "\n",
            "WARNING:tensorflow:From /usr/local/lib/python3.6/dist-packages/keras/backend/tensorflow_backend.py:216: The name tf.is_variable_initialized is deprecated. Please use tf.compat.v1.is_variable_initialized instead.\n",
            "\n",
            "WARNING:tensorflow:From /usr/local/lib/python3.6/dist-packages/keras/backend/tensorflow_backend.py:223: The name tf.variables_initializer is deprecated. Please use tf.compat.v1.variables_initializer instead.\n",
            "\n",
            "60000/60000 [==============================] - 11s 178us/step - loss: 0.0158 - acc: 0.8941 - val_loss: 0.0081 - val_acc: 0.9454\n",
            "Epoch 2/10\n",
            "60000/60000 [==============================] - 1s 24us/step - loss: 0.0075 - acc: 0.9510 - val_loss: 0.0060 - val_acc: 0.9604\n",
            "Epoch 3/10\n",
            "60000/60000 [==============================] - 1s 24us/step - loss: 0.0053 - acc: 0.9657 - val_loss: 0.0050 - val_acc: 0.9666\n",
            "Epoch 4/10\n",
            "60000/60000 [==============================] - 1s 25us/step - loss: 0.0043 - acc: 0.9728 - val_loss: 0.0043 - val_acc: 0.9721\n",
            "Epoch 5/10\n",
            "60000/60000 [==============================] - 1s 24us/step - loss: 0.0036 - acc: 0.9768 - val_loss: 0.0050 - val_acc: 0.9700\n",
            "Epoch 6/10\n",
            "60000/60000 [==============================] - 2s 27us/step - loss: 0.0032 - acc: 0.9803 - val_loss: 0.0042 - val_acc: 0.9732\n",
            "Epoch 7/10\n",
            "60000/60000 [==============================] - 1s 24us/step - loss: 0.0027 - acc: 0.9830 - val_loss: 0.0042 - val_acc: 0.9733\n",
            "Epoch 8/10\n",
            "60000/60000 [==============================] - 1s 24us/step - loss: 0.0024 - acc: 0.9849 - val_loss: 0.0049 - val_acc: 0.9693\n",
            "Epoch 9/10\n",
            "60000/60000 [==============================] - 2s 25us/step - loss: 0.0023 - acc: 0.9864 - val_loss: 0.0045 - val_acc: 0.9734\n",
            "Epoch 10/10\n",
            "60000/60000 [==============================] - 1s 24us/step - loss: 0.0021 - acc: 0.9871 - val_loss: 0.0045 - val_acc: 0.9730\n",
            "Test loss: 0.004523815614705566\n",
            "Test accuracy: 0.973\n"
          ],
          "name": "stdout"
        }
      ]
    },
    {
      "cell_type": "markdown",
      "metadata": {
        "id": "xEnK0HIRih01",
        "colab_type": "text"
      },
      "source": [
        "#mean_absolute_error\n",
        "\n",
        "keras.losses.mean_absolute_error(y_true, y_pred)"
      ]
    },
    {
      "cell_type": "code",
      "metadata": {
        "id": "aJiGk6rmikKW",
        "colab_type": "code",
        "outputId": "502c26d7-48ea-4d72-b088-89ce9342794b",
        "colab": {
          "base_uri": "https://localhost:8080/",
          "height": 426
        }
      },
      "source": [
        "# Compile model using accuracy\n",
        "model.compile(optimizer='rmsprop',\n",
        "              loss='mean_absolute_error',\n",
        "              metrics=['accuracy'])\n",
        "\n",
        "# Train model\n",
        "model.fit(X_train, y_train,\n",
        "          batch_size=BATCH_SIZE,\n",
        "          epochs=EPOCHS,\n",
        "          verbose=1,\n",
        "          validation_data=(X_test, y_test))\n",
        "\n",
        "score = model.evaluate(X_test, y_test, verbose=0)\n",
        "print('Test loss:', score[0])\n",
        "print('Test accuracy:', score[1])"
      ],
      "execution_count": 0,
      "outputs": [
        {
          "output_type": "stream",
          "text": [
            "Train on 60000 samples, validate on 10000 samples\n",
            "Epoch 1/10\n",
            "60000/60000 [==============================] - 2s 26us/step - loss: 0.0027 - acc: 0.9881 - val_loss: 0.0046 - val_acc: 0.9782\n",
            "Epoch 2/10\n",
            "60000/60000 [==============================] - 1s 24us/step - loss: 0.0022 - acc: 0.9901 - val_loss: 0.0044 - val_acc: 0.9790\n",
            "Epoch 3/10\n",
            "60000/60000 [==============================] - 1s 24us/step - loss: 0.0020 - acc: 0.9912 - val_loss: 0.0045 - val_acc: 0.9778\n",
            "Epoch 4/10\n",
            "60000/60000 [==============================] - 2s 26us/step - loss: 0.0018 - acc: 0.9918 - val_loss: 0.0044 - val_acc: 0.9789\n",
            "Epoch 5/10\n",
            "60000/60000 [==============================] - 1s 24us/step - loss: 0.0017 - acc: 0.9921 - val_loss: 0.0041 - val_acc: 0.9799\n",
            "Epoch 6/10\n",
            "60000/60000 [==============================] - 1s 24us/step - loss: 0.0015 - acc: 0.9927 - val_loss: 0.0047 - val_acc: 0.9770\n",
            "Epoch 7/10\n",
            "60000/60000 [==============================] - 2s 27us/step - loss: 0.0015 - acc: 0.9930 - val_loss: 0.0042 - val_acc: 0.9789\n",
            "Epoch 8/10\n",
            "60000/60000 [==============================] - 2s 25us/step - loss: 0.0014 - acc: 0.9933 - val_loss: 0.0041 - val_acc: 0.9805\n",
            "Epoch 9/10\n",
            "60000/60000 [==============================] - 1s 24us/step - loss: 0.0014 - acc: 0.9933 - val_loss: 0.0041 - val_acc: 0.9806\n",
            "Epoch 10/10\n",
            "60000/60000 [==============================] - 1s 24us/step - loss: 0.0013 - acc: 0.9938 - val_loss: 0.0038 - val_acc: 0.9810\n",
            "Test loss: 0.0038304418932437463\n",
            "Test accuracy: 0.981\n"
          ],
          "name": "stdout"
        }
      ]
    },
    {
      "cell_type": "markdown",
      "metadata": {
        "id": "4zCL32z2iohf",
        "colab_type": "text"
      },
      "source": [
        "#mean_absolute_percentage_error\n",
        "\n",
        "keras.losses.mean_absolute_percentage_error(y_true, y_pred)"
      ]
    },
    {
      "cell_type": "code",
      "metadata": {
        "id": "LbVaaKZ8iruw",
        "colab_type": "code",
        "outputId": "672371ff-d688-46b9-fa1b-04717517ba19",
        "colab": {
          "base_uri": "https://localhost:8080/",
          "height": 426
        }
      },
      "source": [
        "# Compile model using accuracy\n",
        "model.compile(optimizer='rmsprop',\n",
        "              loss='mean_absolute_percentage_error',\n",
        "              metrics=['accuracy'])\n",
        "\n",
        "# Train model\n",
        "model.fit(X_train, y_train,\n",
        "          batch_size=BATCH_SIZE,\n",
        "          epochs=EPOCHS,\n",
        "          verbose=1,\n",
        "          validation_data=(X_test, y_test))\n",
        "\n",
        "score = model.evaluate(X_test, y_test, verbose=0)\n",
        "print('Test loss:', score[0])\n",
        "print('Test accuracy:', score[1])"
      ],
      "execution_count": 0,
      "outputs": [
        {
          "output_type": "stream",
          "text": [
            "Train on 60000 samples, validate on 10000 samples\n",
            "Epoch 1/10\n",
            "60000/60000 [==============================] - 2s 29us/step - loss: 622485.9289 - acc: 0.9940 - val_loss: 2138205.3277 - val_acc: 0.9789\n",
            "Epoch 2/10\n",
            "60000/60000 [==============================] - 1s 25us/step - loss: 585743.9731 - acc: 0.9944 - val_loss: 1925244.3143 - val_acc: 0.9810\n",
            "Epoch 3/10\n",
            "60000/60000 [==============================] - 2s 26us/step - loss: 589206.0974 - acc: 0.9944 - val_loss: 1922228.6152 - val_acc: 0.9811\n",
            "Epoch 4/10\n",
            "60000/60000 [==============================] - 2s 26us/step - loss: 552529.5558 - acc: 0.9948 - val_loss: 1925542.5419 - val_acc: 0.9811\n",
            "Epoch 5/10\n",
            "60000/60000 [==============================] - 2s 26us/step - loss: 560338.6004 - acc: 0.9946 - val_loss: 1821772.2996 - val_acc: 0.9817\n",
            "Epoch 6/10\n",
            "60000/60000 [==============================] - 2s 26us/step - loss: 521652.2927 - acc: 0.9950 - val_loss: 1999078.2744 - val_acc: 0.9801\n",
            "Epoch 7/10\n",
            "60000/60000 [==============================] - 1s 25us/step - loss: 528435.7644 - acc: 0.9949 - val_loss: 2109788.7584 - val_acc: 0.9789\n",
            "Epoch 8/10\n",
            "60000/60000 [==============================] - 2s 26us/step - loss: 461086.7485 - acc: 0.9956 - val_loss: 1996531.4803 - val_acc: 0.9800\n",
            "Epoch 9/10\n",
            "60000/60000 [==============================] - 2s 26us/step - loss: 471350.3017 - acc: 0.9955 - val_loss: 1830397.7823 - val_acc: 0.9819\n",
            "Epoch 10/10\n",
            "60000/60000 [==============================] - 2s 25us/step - loss: 438015.7143 - acc: 0.9957 - val_loss: 1990273.3290 - val_acc: 0.9806\n",
            "Test loss: 1990273.3275757947\n",
            "Test accuracy: 0.9806\n"
          ],
          "name": "stdout"
        }
      ]
    },
    {
      "cell_type": "markdown",
      "metadata": {
        "id": "wDT2uAtfiuXH",
        "colab_type": "text"
      },
      "source": [
        "#mean_squared_logarithmic_error\n",
        "\n",
        "keras.losses.mean_squared_logarithmic_error(y_true, y_pred)"
      ]
    },
    {
      "cell_type": "code",
      "metadata": {
        "id": "Tbm0lJwNixJm",
        "colab_type": "code",
        "outputId": "1e8e4b1d-e3d2-4ef9-bcea-13c0f49db0ed",
        "colab": {
          "base_uri": "https://localhost:8080/",
          "height": 535
        }
      },
      "source": [
        "# Compile model using accuracy\n",
        "model.compile(optimizer='rmsprop',\n",
        "              loss='mean_squared_logarithmic_error',\n",
        "              metrics=['accuracy'])\n",
        "\n",
        "# Train model\n",
        "model.fit(X_train, y_train,\n",
        "          batch_size=BATCH_SIZE,\n",
        "          epochs=EPOCHS,\n",
        "          verbose=1,\n",
        "          validation_data=(X_test, y_test))\n",
        "\n",
        "score = model.evaluate(X_test, y_test, verbose=0)\n",
        "print('Test loss:', score[0])\n",
        "print('Test accuracy:', score[1])"
      ],
      "execution_count": 0,
      "outputs": [
        {
          "output_type": "stream",
          "text": [
            "WARNING:tensorflow:From /usr/local/lib/python3.6/dist-packages/keras/backend/tensorflow_backend.py:1702: The name tf.log is deprecated. Please use tf.math.log instead.\n",
            "\n",
            "WARNING:tensorflow:From /usr/local/lib/python3.6/dist-packages/tensorflow_core/python/ops/math_grad.py:1424: where (from tensorflow.python.ops.array_ops) is deprecated and will be removed in a future version.\n",
            "Instructions for updating:\n",
            "Use tf.where in 2.0, which has the same broadcast rule as np.where\n",
            "Train on 60000 samples, validate on 10000 samples\n",
            "Epoch 1/10\n",
            "60000/60000 [==============================] - 2s 30us/step - loss: 4.3306e-04 - acc: 0.9951 - val_loss: 0.0020 - val_acc: 0.9778\n",
            "Epoch 2/10\n",
            "60000/60000 [==============================] - 2s 27us/step - loss: 4.3759e-04 - acc: 0.9950 - val_loss: 0.0018 - val_acc: 0.9801\n",
            "Epoch 3/10\n",
            "60000/60000 [==============================] - 2s 27us/step - loss: 4.3795e-04 - acc: 0.9951 - val_loss: 0.0018 - val_acc: 0.9799\n",
            "Epoch 4/10\n",
            "60000/60000 [==============================] - 2s 26us/step - loss: 4.0980e-04 - acc: 0.9955 - val_loss: 0.0018 - val_acc: 0.9795\n",
            "Epoch 5/10\n",
            "60000/60000 [==============================] - 2s 27us/step - loss: 4.3924e-04 - acc: 0.9951 - val_loss: 0.0017 - val_acc: 0.9804\n",
            "Epoch 6/10\n",
            "60000/60000 [==============================] - 2s 27us/step - loss: 4.6374e-04 - acc: 0.9947 - val_loss: 0.0017 - val_acc: 0.9809\n",
            "Epoch 7/10\n",
            "60000/60000 [==============================] - 2s 27us/step - loss: 4.1374e-04 - acc: 0.9953 - val_loss: 0.0021 - val_acc: 0.9768\n",
            "Epoch 8/10\n",
            "60000/60000 [==============================] - 2s 27us/step - loss: 3.6693e-04 - acc: 0.9959 - val_loss: 0.0018 - val_acc: 0.9802\n",
            "Epoch 9/10\n",
            "60000/60000 [==============================] - 2s 27us/step - loss: 3.7792e-04 - acc: 0.9958 - val_loss: 0.0019 - val_acc: 0.9789\n",
            "Epoch 10/10\n",
            "60000/60000 [==============================] - 2s 28us/step - loss: 3.9722e-04 - acc: 0.9955 - val_loss: 0.0019 - val_acc: 0.9790\n",
            "Test loss: 0.0018922553662354886\n",
            "Test accuracy: 0.979\n"
          ],
          "name": "stdout"
        }
      ]
    },
    {
      "cell_type": "markdown",
      "metadata": {
        "id": "jLY0Km_mi0PA",
        "colab_type": "text"
      },
      "source": [
        "#squared_hinge\n",
        "\n",
        "keras.losses.squared_hinge(y_true, y_pred)"
      ]
    },
    {
      "cell_type": "code",
      "metadata": {
        "id": "hXoHk504i2e7",
        "colab_type": "code",
        "outputId": "31662978-37c3-43f5-b20d-d6a5d10089dd",
        "colab": {
          "base_uri": "https://localhost:8080/",
          "height": 426
        }
      },
      "source": [
        "# Compile model using accuracy\n",
        "model.compile(optimizer='rmsprop',\n",
        "              loss='squared_hinge',\n",
        "              metrics=['accuracy'])\n",
        "\n",
        "# Train model\n",
        "model.fit(X_train, y_train,\n",
        "          batch_size=BATCH_SIZE,\n",
        "          epochs=EPOCHS,\n",
        "          verbose=1,\n",
        "          validation_data=(X_test, y_test))\n",
        "\n",
        "score = model.evaluate(X_test, y_test, verbose=0)\n",
        "print('Test loss:', score[0])\n",
        "print('Test accuracy:', score[1])"
      ],
      "execution_count": 0,
      "outputs": [
        {
          "output_type": "stream",
          "text": [
            "Train on 60000 samples, validate on 10000 samples\n",
            "Epoch 1/10\n",
            "60000/60000 [==============================] - 2s 29us/step - loss: 0.9004 - acc: 0.9956 - val_loss: 0.9019 - val_acc: 0.9804\n",
            "Epoch 2/10\n",
            "60000/60000 [==============================] - 1s 25us/step - loss: 0.9004 - acc: 0.9960 - val_loss: 0.9019 - val_acc: 0.9791\n",
            "Epoch 3/10\n",
            "60000/60000 [==============================] - 2s 27us/step - loss: 0.9004 - acc: 0.9958 - val_loss: 0.9018 - val_acc: 0.9811\n",
            "Epoch 4/10\n",
            "60000/60000 [==============================] - 2s 25us/step - loss: 0.9004 - acc: 0.9960 - val_loss: 0.9018 - val_acc: 0.9816\n",
            "Epoch 5/10\n",
            "60000/60000 [==============================] - 2s 26us/step - loss: 0.9004 - acc: 0.9962 - val_loss: 0.9018 - val_acc: 0.9806\n",
            "Epoch 6/10\n",
            "60000/60000 [==============================] - 2s 26us/step - loss: 0.9003 - acc: 0.9964 - val_loss: 0.9018 - val_acc: 0.9805\n",
            "Epoch 7/10\n",
            "60000/60000 [==============================] - 1s 25us/step - loss: 0.9004 - acc: 0.9961 - val_loss: 0.9017 - val_acc: 0.9817\n",
            "Epoch 8/10\n",
            "60000/60000 [==============================] - 1s 25us/step - loss: 0.9003 - acc: 0.9965 - val_loss: 0.9018 - val_acc: 0.9809\n",
            "Epoch 9/10\n",
            "60000/60000 [==============================] - 2s 25us/step - loss: 0.9004 - acc: 0.9961 - val_loss: 0.9019 - val_acc: 0.9797\n",
            "Epoch 10/10\n",
            "60000/60000 [==============================] - 1s 24us/step - loss: 0.9004 - acc: 0.9962 - val_loss: 0.9019 - val_acc: 0.9798\n",
            "Test loss: 0.9018862298965454\n",
            "Test accuracy: 0.9798\n"
          ],
          "name": "stdout"
        }
      ]
    },
    {
      "cell_type": "markdown",
      "metadata": {
        "id": "7hc5-jeei5PL",
        "colab_type": "text"
      },
      "source": [
        "#hinge\n",
        "\n",
        "keras.losses.hinge(y_true, y_pred)"
      ]
    },
    {
      "cell_type": "code",
      "metadata": {
        "id": "hkbwuZ5li7oL",
        "colab_type": "code",
        "outputId": "d0def184-38fc-4d1b-f543-b6ed8c7fe96b",
        "colab": {
          "base_uri": "https://localhost:8080/",
          "height": 426
        }
      },
      "source": [
        "# Compile model using accuracy\n",
        "model.compile(optimizer='rmsprop',\n",
        "              loss='hinge',\n",
        "              metrics=['accuracy'])\n",
        "\n",
        "# Train model\n",
        "model.fit(X_train, y_train,\n",
        "          batch_size=BATCH_SIZE,\n",
        "          epochs=EPOCHS,\n",
        "          verbose=1,\n",
        "          validation_data=(X_test, y_test))\n",
        "\n",
        "score = model.evaluate(X_test, y_test, verbose=0)\n",
        "print('Test loss:', score[0])\n",
        "print('Test accuracy:', score[1])"
      ],
      "execution_count": 0,
      "outputs": [
        {
          "output_type": "stream",
          "text": [
            "Train on 60000 samples, validate on 10000 samples\n",
            "Epoch 1/10\n",
            "60000/60000 [==============================] - 2s 31us/step - loss: 0.9003 - acc: 0.9967 - val_loss: 0.9019 - val_acc: 0.9811\n",
            "Epoch 2/10\n",
            "60000/60000 [==============================] - 1s 24us/step - loss: 0.9003 - acc: 0.9971 - val_loss: 0.9018 - val_acc: 0.9819\n",
            "Epoch 3/10\n",
            "60000/60000 [==============================] - 1s 25us/step - loss: 0.9003 - acc: 0.9968 - val_loss: 0.9018 - val_acc: 0.9818\n",
            "Epoch 4/10\n",
            "60000/60000 [==============================] - 2s 26us/step - loss: 0.9003 - acc: 0.9968 - val_loss: 0.9018 - val_acc: 0.9821\n",
            "Epoch 5/10\n",
            "60000/60000 [==============================] - 2s 25us/step - loss: 0.9003 - acc: 0.9970 - val_loss: 0.9018 - val_acc: 0.9817\n",
            "Epoch 6/10\n",
            "60000/60000 [==============================] - 2s 25us/step - loss: 0.9003 - acc: 0.9968 - val_loss: 0.9018 - val_acc: 0.9819\n",
            "Epoch 7/10\n",
            "60000/60000 [==============================] - 1s 25us/step - loss: 0.9003 - acc: 0.9970 - val_loss: 0.9020 - val_acc: 0.9805\n",
            "Epoch 8/10\n",
            "60000/60000 [==============================] - 2s 25us/step - loss: 0.9003 - acc: 0.9971 - val_loss: 0.9019 - val_acc: 0.9814\n",
            "Epoch 9/10\n",
            "60000/60000 [==============================] - 2s 27us/step - loss: 0.9003 - acc: 0.9971 - val_loss: 0.9021 - val_acc: 0.9793\n",
            "Epoch 10/10\n",
            "60000/60000 [==============================] - 1s 24us/step - loss: 0.9003 - acc: 0.9970 - val_loss: 0.9019 - val_acc: 0.9815\n",
            "Test loss: 0.9018929103851319\n",
            "Test accuracy: 0.9815\n"
          ],
          "name": "stdout"
        }
      ]
    },
    {
      "cell_type": "markdown",
      "metadata": {
        "id": "LRoSjzqNjCwi",
        "colab_type": "text"
      },
      "source": [
        "#categorical_hinge\n",
        "\n",
        "keras.losses.categorical_hinge(y_true, y_pred)"
      ]
    },
    {
      "cell_type": "code",
      "metadata": {
        "id": "UOrswDfMjF__",
        "colab_type": "code",
        "outputId": "30a98673-b128-4ae2-c03e-c5bad729f1b4",
        "colab": {
          "base_uri": "https://localhost:8080/",
          "height": 426
        }
      },
      "source": [
        "# Compile model using accuracy\n",
        "model.compile(optimizer='rmsprop',\n",
        "              loss='categorical_hinge',\n",
        "              metrics=['accuracy'])\n",
        "\n",
        "# Train model\n",
        "model.fit(X_train, y_train,\n",
        "          batch_size=BATCH_SIZE,\n",
        "          epochs=EPOCHS,\n",
        "          verbose=1,\n",
        "          validation_data=(X_test, y_test))\n",
        "\n",
        "score = model.evaluate(X_test, y_test, verbose=0)\n",
        "print('Test loss:', score[0])\n",
        "print('Test accuracy:', score[1])"
      ],
      "execution_count": 0,
      "outputs": [
        {
          "output_type": "stream",
          "text": [
            "Train on 60000 samples, validate on 10000 samples\n",
            "Epoch 1/10\n",
            "60000/60000 [==============================] - 2s 31us/step - loss: 0.0062 - acc: 0.9969 - val_loss: 0.0349 - val_acc: 0.9827\n",
            "Epoch 2/10\n",
            "60000/60000 [==============================] - 2s 27us/step - loss: 0.0061 - acc: 0.9970 - val_loss: 0.0372 - val_acc: 0.9814\n",
            "Epoch 3/10\n",
            "60000/60000 [==============================] - 2s 26us/step - loss: 0.0060 - acc: 0.9970 - val_loss: 0.0331 - val_acc: 0.9837\n",
            "Epoch 4/10\n",
            "60000/60000 [==============================] - 2s 28us/step - loss: 0.0059 - acc: 0.9971 - val_loss: 0.0369 - val_acc: 0.9818\n",
            "Epoch 5/10\n",
            "60000/60000 [==============================] - 2s 26us/step - loss: 0.0058 - acc: 0.9972 - val_loss: 0.0327 - val_acc: 0.9836\n",
            "Epoch 6/10\n",
            "60000/60000 [==============================] - 2s 26us/step - loss: 0.0061 - acc: 0.9970 - val_loss: 0.0364 - val_acc: 0.9819\n",
            "Epoch 7/10\n",
            "60000/60000 [==============================] - 2s 26us/step - loss: 0.0062 - acc: 0.9969 - val_loss: 0.0361 - val_acc: 0.9820\n",
            "Epoch 8/10\n",
            "60000/60000 [==============================] - 2s 26us/step - loss: 0.0062 - acc: 0.9969 - val_loss: 0.0358 - val_acc: 0.9824\n",
            "Epoch 9/10\n",
            "60000/60000 [==============================] - 2s 26us/step - loss: 0.0063 - acc: 0.9969 - val_loss: 0.0357 - val_acc: 0.9822\n",
            "Epoch 10/10\n",
            "60000/60000 [==============================] - 2s 27us/step - loss: 0.0059 - acc: 0.9971 - val_loss: 0.0359 - val_acc: 0.9822\n",
            "Test loss: 0.0358869398070216\n",
            "Test accuracy: 0.9822\n"
          ],
          "name": "stdout"
        }
      ]
    },
    {
      "cell_type": "markdown",
      "metadata": {
        "id": "VF0cEwoxjIXn",
        "colab_type": "text"
      },
      "source": [
        "#logcosh\n",
        "\n",
        "keras.losses.logcosh(y_true, y_pred)\n",
        "\n",
        "Logarithm of the hyperbolic cosine of the prediction error.\n",
        "\n",
        "log(cosh(x)) is approximately equal to (x ** 2) / 2 for small x and to abs(x) - log(2) for large x. This means that 'logcosh' works mostly like the mean squared error, but will not be so strongly affected by the occasional wildly incorrect prediction.\n",
        "\n",
        "##Arguments\n",
        "\n",
        "1. y_true: tensor of true targets.\n",
        "2. y_pred: tensor of predicted targets.\n",
        "\n",
        "##Returns\n",
        "\n",
        "1. Tensor with one scalar loss entry per sample."
      ]
    },
    {
      "cell_type": "code",
      "metadata": {
        "id": "V4A7M01bjLap",
        "colab_type": "code",
        "outputId": "2a693b2d-b347-4a06-be0a-dc5218be9aad",
        "colab": {
          "base_uri": "https://localhost:8080/",
          "height": 426
        }
      },
      "source": [
        "# Compile model using accuracy\n",
        "model.compile(optimizer='rmsprop',\n",
        "              loss='logcosh',\n",
        "              metrics=['accuracy'])\n",
        "\n",
        "# Train model\n",
        "model.fit(X_train, y_train,\n",
        "          batch_size=BATCH_SIZE,\n",
        "          epochs=EPOCHS,\n",
        "          verbose=1,\n",
        "          validation_data=(X_test, y_test))\n",
        "\n",
        "score = model.evaluate(X_test, y_test, verbose=0)\n",
        "print('Test loss:', score[0])\n",
        "print('Test accuracy:', score[1])"
      ],
      "execution_count": 0,
      "outputs": [
        {
          "output_type": "stream",
          "text": [
            "Train on 60000 samples, validate on 10000 samples\n",
            "Epoch 1/10\n",
            "60000/60000 [==============================] - 2s 31us/step - loss: 2.5007e-04 - acc: 0.9970 - val_loss: 0.0014 - val_acc: 0.9836\n",
            "Epoch 2/10\n",
            "60000/60000 [==============================] - 1s 25us/step - loss: 2.6314e-04 - acc: 0.9968 - val_loss: 0.0016 - val_acc: 0.9802\n",
            "Epoch 3/10\n",
            "60000/60000 [==============================] - 1s 25us/step - loss: 2.5415e-04 - acc: 0.9970 - val_loss: 0.0017 - val_acc: 0.9795\n",
            "Epoch 4/10\n",
            "60000/60000 [==============================] - 1s 25us/step - loss: 2.5471e-04 - acc: 0.9969 - val_loss: 0.0015 - val_acc: 0.9813\n",
            "Epoch 5/10\n",
            "60000/60000 [==============================] - 1s 25us/step - loss: 2.7108e-04 - acc: 0.9967 - val_loss: 0.0015 - val_acc: 0.9821\n",
            "Epoch 6/10\n",
            "60000/60000 [==============================] - 1s 24us/step - loss: 2.2052e-04 - acc: 0.9973 - val_loss: 0.0014 - val_acc: 0.9824\n",
            "Epoch 7/10\n",
            "60000/60000 [==============================] - 2s 26us/step - loss: 2.5697e-04 - acc: 0.9969 - val_loss: 0.0016 - val_acc: 0.9809\n",
            "Epoch 8/10\n",
            "60000/60000 [==============================] - 2s 26us/step - loss: 2.3994e-04 - acc: 0.9971 - val_loss: 0.0015 - val_acc: 0.9823\n",
            "Epoch 9/10\n",
            "60000/60000 [==============================] - 2s 27us/step - loss: 2.5501e-04 - acc: 0.9969 - val_loss: 0.0015 - val_acc: 0.9820\n",
            "Epoch 10/10\n",
            "60000/60000 [==============================] - 2s 28us/step - loss: 2.3172e-04 - acc: 0.9973 - val_loss: 0.0015 - val_acc: 0.9822\n",
            "Test loss: 0.0014699248394888197\n",
            "Test accuracy: 0.9822\n"
          ],
          "name": "stdout"
        }
      ]
    },
    {
      "cell_type": "markdown",
      "metadata": {
        "id": "KZ0bv-eXjbXu",
        "colab_type": "text"
      },
      "source": [
        "#categorical_crossentropy\n",
        "\n",
        "keras.losses.categorical_crossentropy(y_true, y_pred, from_logits=False, label_smoothing=0)"
      ]
    },
    {
      "cell_type": "code",
      "metadata": {
        "id": "b-XrpX7Ajd_Z",
        "colab_type": "code",
        "outputId": "70861ee4-ec06-4203-cec7-c4e1cdf13752",
        "colab": {
          "base_uri": "https://localhost:8080/",
          "height": 426
        }
      },
      "source": [
        "# Compile model using accuracy\n",
        "model.compile(optimizer='rmsprop',\n",
        "              loss='categorical_crossentropy',\n",
        "              metrics=['accuracy'])\n",
        "\n",
        "# Train model\n",
        "model.fit(X_train, y_train,\n",
        "          batch_size=BATCH_SIZE,\n",
        "          epochs=EPOCHS,\n",
        "          verbose=1,\n",
        "          validation_data=(X_test, y_test))\n",
        "\n",
        "score = model.evaluate(X_test, y_test, verbose=0)\n",
        "print('Test loss:', score[0])\n",
        "print('Test accuracy:', score[1])"
      ],
      "execution_count": 0,
      "outputs": [
        {
          "output_type": "stream",
          "text": [
            "Train on 60000 samples, validate on 10000 samples\n",
            "Epoch 1/10\n",
            "60000/60000 [==============================] - 2s 34us/step - loss: 0.0369 - acc: 0.9972 - val_loss: 0.1890 - val_acc: 0.9833\n",
            "Epoch 2/10\n",
            "60000/60000 [==============================] - 2s 29us/step - loss: 0.0369 - acc: 0.9972 - val_loss: 0.2055 - val_acc: 0.9828\n",
            "Epoch 3/10\n",
            "60000/60000 [==============================] - 2s 26us/step - loss: 0.0365 - acc: 0.9974 - val_loss: 0.1951 - val_acc: 0.9827\n",
            "Epoch 4/10\n",
            "60000/60000 [==============================] - 2s 27us/step - loss: 0.0364 - acc: 0.9974 - val_loss: 0.1995 - val_acc: 0.9822\n",
            "Epoch 5/10\n",
            "60000/60000 [==============================] - 2s 27us/step - loss: 0.0361 - acc: 0.9973 - val_loss: 0.1841 - val_acc: 0.9838\n",
            "Epoch 6/10\n",
            "60000/60000 [==============================] - 2s 26us/step - loss: 0.0348 - acc: 0.9973 - val_loss: 0.1860 - val_acc: 0.9831\n",
            "Epoch 7/10\n",
            "60000/60000 [==============================] - 2s 28us/step - loss: 0.0334 - acc: 0.9977 - val_loss: 0.2097 - val_acc: 0.9819\n",
            "Epoch 8/10\n",
            "60000/60000 [==============================] - 2s 26us/step - loss: 0.0321 - acc: 0.9977 - val_loss: 0.2043 - val_acc: 0.9825\n",
            "Epoch 9/10\n",
            "60000/60000 [==============================] - 2s 26us/step - loss: 0.0337 - acc: 0.9976 - val_loss: 0.2106 - val_acc: 0.9821\n",
            "Epoch 10/10\n",
            "60000/60000 [==============================] - 2s 28us/step - loss: 0.0327 - acc: 0.9977 - val_loss: 0.2187 - val_acc: 0.9800\n",
            "Test loss: 0.21874413246875274\n",
            "Test accuracy: 0.98\n"
          ],
          "name": "stdout"
        }
      ]
    },
    {
      "cell_type": "markdown",
      "metadata": {
        "id": "j2hMi0U5jk4d",
        "colab_type": "text"
      },
      "source": [
        "#binary_crossentropy\n",
        "\n",
        "keras.losses.binary_crossentropy(y_true, y_pred, from_logits=False, label_smoothing=0)"
      ]
    },
    {
      "cell_type": "code",
      "metadata": {
        "id": "YDLqW8otjnUZ",
        "colab_type": "code",
        "outputId": "3e5cbe55-1543-4756-b57e-32cf0d4ee50d",
        "colab": {
          "base_uri": "https://localhost:8080/",
          "height": 426
        }
      },
      "source": [
        "# Compile model using accuracy\n",
        "model.compile(optimizer='rmsprop',\n",
        "              loss='binary_crossentropy',\n",
        "              metrics=['accuracy'])\n",
        "\n",
        "# Train model\n",
        "model.fit(X_train, y_train,\n",
        "          batch_size=BATCH_SIZE,\n",
        "          epochs=EPOCHS,\n",
        "          verbose=1,\n",
        "          validation_data=(X_test, y_test))\n",
        "\n",
        "score = model.evaluate(X_test, y_test, verbose=0)\n",
        "print('Test loss:', score[0])\n",
        "print('Test accuracy:', score[1])"
      ],
      "execution_count": 0,
      "outputs": [
        {
          "output_type": "stream",
          "text": [
            "Train on 60000 samples, validate on 10000 samples\n",
            "Epoch 1/10\n",
            "60000/60000 [==============================] - 2s 35us/step - loss: 0.0069 - acc: 0.9994 - val_loss: 0.0403 - val_acc: 0.9964\n",
            "Epoch 2/10\n",
            "60000/60000 [==============================] - 2s 29us/step - loss: 0.0067 - acc: 0.9995 - val_loss: 0.0435 - val_acc: 0.9962\n",
            "Epoch 3/10\n",
            "60000/60000 [==============================] - 2s 27us/step - loss: 0.0069 - acc: 0.9994 - val_loss: 0.0411 - val_acc: 0.9963\n",
            "Epoch 4/10\n",
            "60000/60000 [==============================] - 2s 27us/step - loss: 0.0065 - acc: 0.9995 - val_loss: 0.0393 - val_acc: 0.9963\n",
            "Epoch 5/10\n",
            "60000/60000 [==============================] - 2s 26us/step - loss: 0.0066 - acc: 0.9994 - val_loss: 0.0400 - val_acc: 0.9964\n",
            "Epoch 6/10\n",
            "60000/60000 [==============================] - 2s 27us/step - loss: 0.0065 - acc: 0.9995 - val_loss: 0.0365 - val_acc: 0.9965\n",
            "Epoch 7/10\n",
            "60000/60000 [==============================] - 2s 27us/step - loss: 0.0066 - acc: 0.9994 - val_loss: 0.0381 - val_acc: 0.9963\n",
            "Epoch 8/10\n",
            "60000/60000 [==============================] - 2s 28us/step - loss: 0.0063 - acc: 0.9995 - val_loss: 0.0415 - val_acc: 0.9964\n",
            "Epoch 9/10\n",
            "60000/60000 [==============================] - 2s 28us/step - loss: 0.0062 - acc: 0.9995 - val_loss: 0.0382 - val_acc: 0.9966\n",
            "Epoch 10/10\n",
            "60000/60000 [==============================] - 2s 28us/step - loss: 0.0068 - acc: 0.9994 - val_loss: 0.0414 - val_acc: 0.9962\n",
            "Test loss: 0.041358069154429515\n",
            "Test accuracy: 0.9961899961471558\n"
          ],
          "name": "stdout"
        }
      ]
    },
    {
      "cell_type": "markdown",
      "metadata": {
        "id": "stvo_lw6jqcT",
        "colab_type": "text"
      },
      "source": [
        "#kullback_leibler_divergence\n",
        "\n",
        "keras.losses.kullback_leibler_divergence(y_true, y_pred)"
      ]
    },
    {
      "cell_type": "code",
      "metadata": {
        "id": "m6MTeFaHjs4D",
        "colab_type": "code",
        "outputId": "9e4925ec-735d-4dee-ebe7-508e02ca63b6",
        "colab": {
          "base_uri": "https://localhost:8080/",
          "height": 426
        }
      },
      "source": [
        "# Compile model using accuracy\n",
        "model.compile(optimizer='rmsprop',\n",
        "              loss='kullback_leibler_divergence',\n",
        "              metrics=['accuracy'])\n",
        "\n",
        "# Train model\n",
        "model.fit(X_train, y_train,\n",
        "          batch_size=BATCH_SIZE,\n",
        "          epochs=EPOCHS,\n",
        "          verbose=1,\n",
        "          validation_data=(X_test, y_test))\n",
        "\n",
        "score = model.evaluate(X_test, y_test, verbose=0)\n",
        "print('Test loss:', score[0])\n",
        "print('Test accuracy:', score[1])"
      ],
      "execution_count": 0,
      "outputs": [
        {
          "output_type": "stream",
          "text": [
            "Train on 60000 samples, validate on 10000 samples\n",
            "Epoch 1/10\n",
            "60000/60000 [==============================] - 2s 33us/step - loss: 0.0315 - acc: 0.9976 - val_loss: 0.2007 - val_acc: 0.9824\n",
            "Epoch 2/10\n",
            "60000/60000 [==============================] - 2s 25us/step - loss: 0.0304 - acc: 0.9976 - val_loss: 0.1945 - val_acc: 0.9833\n",
            "Epoch 3/10\n",
            "60000/60000 [==============================] - 2s 25us/step - loss: 0.0296 - acc: 0.9979 - val_loss: 0.1889 - val_acc: 0.9832\n",
            "Epoch 4/10\n",
            "60000/60000 [==============================] - 2s 25us/step - loss: 0.0287 - acc: 0.9979 - val_loss: 0.1979 - val_acc: 0.9827\n",
            "Epoch 5/10\n",
            "60000/60000 [==============================] - 1s 25us/step - loss: 0.0277 - acc: 0.9980 - val_loss: 0.2069 - val_acc: 0.9820\n",
            "Epoch 6/10\n",
            "60000/60000 [==============================] - 2s 25us/step - loss: 0.0271 - acc: 0.9981 - val_loss: 0.2080 - val_acc: 0.9817\n",
            "Epoch 7/10\n",
            "60000/60000 [==============================] - 2s 25us/step - loss: 0.0262 - acc: 0.9982 - val_loss: 0.1966 - val_acc: 0.9832\n",
            "Epoch 8/10\n",
            "60000/60000 [==============================] - 1s 24us/step - loss: 0.0270 - acc: 0.9980 - val_loss: 0.1993 - val_acc: 0.9824\n",
            "Epoch 9/10\n",
            "60000/60000 [==============================] - 1s 25us/step - loss: 0.0267 - acc: 0.9981 - val_loss: 0.2205 - val_acc: 0.9815\n",
            "Epoch 10/10\n",
            "60000/60000 [==============================] - 1s 25us/step - loss: 0.0272 - acc: 0.9981 - val_loss: 0.2044 - val_acc: 0.9818\n",
            "Test loss: 0.20437174277613082\n",
            "Test accuracy: 0.9818\n"
          ],
          "name": "stdout"
        }
      ]
    },
    {
      "cell_type": "markdown",
      "metadata": {
        "id": "co28pTxijuyE",
        "colab_type": "text"
      },
      "source": [
        "#poisson\n",
        "\n",
        "keras.losses.poisson(y_true, y_pred)"
      ]
    },
    {
      "cell_type": "code",
      "metadata": {
        "id": "J7uvZNh_jxXd",
        "colab_type": "code",
        "outputId": "6fdde65d-3877-4aae-add5-410f35284917",
        "colab": {
          "base_uri": "https://localhost:8080/",
          "height": 426
        }
      },
      "source": [
        "# Compile model using accuracy\n",
        "model.compile(optimizer='rmsprop',\n",
        "              loss='poisson',\n",
        "              metrics=['accuracy'])\n",
        "\n",
        "# Train model\n",
        "model.fit(X_train, y_train,\n",
        "          batch_size=BATCH_SIZE,\n",
        "          epochs=EPOCHS,\n",
        "          verbose=1,\n",
        "          validation_data=(X_test, y_test))\n",
        "\n",
        "score = model.evaluate(X_test, y_test, verbose=0)\n",
        "print('Test loss:', score[0])\n",
        "print('Test accuracy:', score[1])"
      ],
      "execution_count": 0,
      "outputs": [
        {
          "output_type": "stream",
          "text": [
            "Train on 60000 samples, validate on 10000 samples\n",
            "Epoch 1/10\n",
            "60000/60000 [==============================] - 2s 32us/step - loss: 0.1028 - acc: 0.9980 - val_loss: 0.1211 - val_acc: 0.9832\n",
            "Epoch 2/10\n",
            "60000/60000 [==============================] - 1s 25us/step - loss: 0.1026 - acc: 0.9982 - val_loss: 0.1228 - val_acc: 0.9812\n",
            "Epoch 3/10\n",
            "60000/60000 [==============================] - 1s 25us/step - loss: 0.1027 - acc: 0.9981 - val_loss: 0.1222 - val_acc: 0.9811\n",
            "Epoch 4/10\n",
            "60000/60000 [==============================] - 1s 24us/step - loss: 0.1027 - acc: 0.9982 - val_loss: 0.1233 - val_acc: 0.9800\n",
            "Epoch 5/10\n",
            "60000/60000 [==============================] - 1s 24us/step - loss: 0.1026 - acc: 0.9983 - val_loss: 0.1223 - val_acc: 0.9811\n",
            "Epoch 6/10\n",
            "60000/60000 [==============================] - 2s 27us/step - loss: 0.1026 - acc: 0.9982 - val_loss: 0.1227 - val_acc: 0.9811\n",
            "Epoch 7/10\n",
            "60000/60000 [==============================] - 1s 25us/step - loss: 0.1026 - acc: 0.9983 - val_loss: 0.1227 - val_acc: 0.9810\n",
            "Epoch 8/10\n",
            "60000/60000 [==============================] - 2s 26us/step - loss: 0.1026 - acc: 0.9983 - val_loss: 0.1222 - val_acc: 0.9809\n",
            "Epoch 9/10\n",
            "60000/60000 [==============================] - 2s 26us/step - loss: 0.1026 - acc: 0.9983 - val_loss: 0.1205 - val_acc: 0.9835\n",
            "Epoch 10/10\n",
            "60000/60000 [==============================] - 1s 25us/step - loss: 0.1027 - acc: 0.9981 - val_loss: 0.1226 - val_acc: 0.9813\n",
            "Test loss: 0.12260281292200088\n",
            "Test accuracy: 0.9813\n"
          ],
          "name": "stdout"
        }
      ]
    },
    {
      "cell_type": "markdown",
      "metadata": {
        "id": "fzJ8kS6Mj1iS",
        "colab_type": "text"
      },
      "source": [
        "#cosine_proximity\n",
        "\n",
        "keras.losses.cosine_proximity(y_true, y_pred, axis=-1)"
      ]
    },
    {
      "cell_type": "code",
      "metadata": {
        "id": "sgC8iO8Lj4Ie",
        "colab_type": "code",
        "outputId": "cdf20528-82cd-4043-b331-fa209e285e00",
        "colab": {
          "base_uri": "https://localhost:8080/",
          "height": 426
        }
      },
      "source": [
        "# Compile model using accuracy\n",
        "model.compile(optimizer='rmsprop',\n",
        "              loss='cosine_proximity',\n",
        "              metrics=['accuracy'])\n",
        "\n",
        "# Train model\n",
        "model.fit(X_train, y_train,\n",
        "          batch_size=BATCH_SIZE,\n",
        "          epochs=EPOCHS,\n",
        "          verbose=1,\n",
        "          validation_data=(X_test, y_test))\n",
        "\n",
        "score = model.evaluate(X_test, y_test, verbose=0)\n",
        "print('Test loss:', score[0])\n",
        "print('Test accuracy:', score[1])"
      ],
      "execution_count": 0,
      "outputs": [
        {
          "output_type": "stream",
          "text": [
            "Train on 60000 samples, validate on 10000 samples\n",
            "Epoch 1/10\n",
            "60000/60000 [==============================] - 2s 36us/step - loss: -0.9979 - acc: 0.9979 - val_loss: -0.9815 - val_acc: 0.9813\n",
            "Epoch 2/10\n",
            "60000/60000 [==============================] - 2s 27us/step - loss: -0.9981 - acc: 0.9980 - val_loss: -0.9819 - val_acc: 0.9815\n",
            "Epoch 3/10\n",
            "60000/60000 [==============================] - 2s 30us/step - loss: -0.9982 - acc: 0.9982 - val_loss: -0.9807 - val_acc: 0.9804\n",
            "Epoch 4/10\n",
            "60000/60000 [==============================] - 2s 26us/step - loss: -0.9981 - acc: 0.9980 - val_loss: -0.9816 - val_acc: 0.9813\n",
            "Epoch 5/10\n",
            "60000/60000 [==============================] - 2s 27us/step - loss: -0.9981 - acc: 0.9981 - val_loss: -0.9805 - val_acc: 0.9798\n",
            "Epoch 6/10\n",
            "60000/60000 [==============================] - 2s 29us/step - loss: -0.9981 - acc: 0.9980 - val_loss: -0.9835 - val_acc: 0.9832\n",
            "Epoch 7/10\n",
            "60000/60000 [==============================] - 2s 27us/step - loss: -0.9982 - acc: 0.9982 - val_loss: -0.9807 - val_acc: 0.9800\n",
            "Epoch 8/10\n",
            "60000/60000 [==============================] - 2s 29us/step - loss: -0.9981 - acc: 0.9981 - val_loss: -0.9822 - val_acc: 0.9820\n",
            "Epoch 9/10\n",
            "60000/60000 [==============================] - 2s 27us/step - loss: -0.9979 - acc: 0.9979 - val_loss: -0.9817 - val_acc: 0.9814\n",
            "Epoch 10/10\n",
            "60000/60000 [==============================] - 2s 27us/step - loss: -0.9982 - acc: 0.9981 - val_loss: -0.9809 - val_acc: 0.9801\n",
            "Test loss: -0.9808550363540649\n",
            "Test accuracy: 0.9801\n"
          ],
          "name": "stdout"
        }
      ]
    },
    {
      "cell_type": "markdown",
      "metadata": {
        "id": "G0X2fr_n5nWG",
        "colab_type": "text"
      },
      "source": [
        "#Thank you for completing this notebook"
      ]
    },
    {
      "cell_type": "markdown",
      "metadata": {
        "id": "jTTuWc4FXa8L",
        "colab_type": "text"
      },
      "source": [
        "1)**mean_squared_error**\n",
        "\n",
        "Test loss: 0.003352416222123199\n",
        "\n",
        "\n",
        "Test accuracy: 0.9799\n",
        "\n",
        "2)**mean_absolute_error**\n",
        "\n",
        "Test loss: 0.0038889680898445095\n",
        "\n",
        "\n",
        "Test accuracy: 0.981\n",
        "\n",
        "3)**mean_absolute_percentage_error**\n",
        "\n",
        "Test loss: 1803200.477230715\n",
        "\n",
        "\n",
        "Test accuracy: 0.9819\n",
        "\n",
        "4)**mean_squared_logarithmic_error**\n",
        "\n",
        "Test loss: 0.0017203592830507266\n",
        "\n",
        "\n",
        "Test accuracy: 0.9807\n",
        "\n",
        "5)**squared_hinge**\n",
        "\n",
        "Test loss: 0.9018609205245972\n",
        "\n",
        "\n",
        "Test accuracy: 0.9803\n",
        "\n",
        "6)**hinge**\n",
        "\n",
        "Test loss: 0.901724101448059\n",
        "\n",
        "\n",
        "Test accuracy: 0.9833\n",
        "\n",
        "7)**categorical_hinge**\n",
        "\n",
        "Test loss: 0.03607132461245253\n",
        "\n",
        "\n",
        "Test accuracy: 0.982\n",
        "\n",
        "8)**logcosh**\n",
        "\n",
        "Test loss: 0.0015778261381334592\n",
        "\n",
        "\n",
        "Test accuracy: 0.981\n",
        "\n",
        "9)**categorical_crossentropy**\n",
        "\n",
        "Test loss: 0.23053656777290435\n",
        "\n",
        "\n",
        "Test accuracy: 0.9802\n",
        "\n",
        "10)**binary_crossentropy**\n",
        "\n",
        "Test loss: 0.04225646639997729\n",
        "\n",
        "\n",
        "Test accuracy: 0.996229995727539\n",
        "\n",
        "11)**kullback_leibler_divergence**\n",
        "\n",
        "Test loss: 0.21674129924554209\n",
        "\n",
        "\n",
        "Test accuracy: 0.9822\n",
        "\n",
        "12)**poisson**\n",
        "\n",
        "Test loss: 0.1220341134428978\n",
        "\n",
        "\n",
        "Test accuracy: 0.9826\n",
        "\n",
        "13)**cosine_proximity**\n",
        "\n",
        "Test loss: -0.9826041687011718\n",
        "\n",
        "\n",
        "Test accuracy: 0.9819"
      ]
    },
    {
      "cell_type": "markdown",
      "metadata": {
        "id": "UtA4m9UVXcoB",
        "colab_type": "text"
      },
      "source": [
        "The best among all is **binary_crossentropy** with an accuracy of almost 1."
      ]
    },
    {
      "cell_type": "code",
      "metadata": {
        "id": "sUtEuFR3X8Hv",
        "colab_type": "code",
        "outputId": "4fbc95ae-4848-4e6f-d7dc-5e1190cda18b",
        "colab": {
          "base_uri": "https://localhost:8080/",
          "height": 461
        }
      },
      "source": [
        "from keras.datasets import cifar10\n",
        "from keras.models import Sequential\n",
        "from keras.layers import Dense, Dropout, Activation, Flatten\n",
        "from keras.utils import to_categorical\n",
        "\n",
        "#import dataset\n",
        "(X_train, Y_train), (X_test, Y_test) = cifar10.load_data()\n",
        "\n",
        "#change shape from image to vector\n",
        "X_train = X_train.reshape(50000, 32 * 32 * 3)\n",
        "X_test = X_test.reshape(10000, 32 * 32 * 3)\n",
        "\n",
        "#preprocess\n",
        "X_train = X_train.astype('float32')\n",
        "X_test = X_test.astype('float32')\n",
        "X_train /= 255.0\n",
        "X_test /= 255.0\n",
        "\n",
        "#change labels from numeric to one hot encoded\n",
        "Y_train = to_categorical(Y_train, 10)\n",
        "Y_test =  to_categorical(Y_test, 10)\n",
        "\n",
        "#Model building\n",
        "model = Sequential()\n",
        "model.add(Dense(1024, input_shape=(3072, )))\n",
        "model.add(Activation('relu'))\n",
        "model.add(Dense(512))\n",
        "model.add(Activation('relu'))\n",
        "model.add(Dense(512))\n",
        "model.add(Activation('relu'))\n",
        "model.add(Dense(10))\n",
        "model.add(Activation('softmax'))\n",
        "\n",
        "# Compile model using above optimizer\n",
        "model.compile(optimizer='rmsprop',\n",
        "              loss='binary_crossentropy',\n",
        "              metrics=['accuracy'])\n",
        "\n",
        "# Train model\n",
        "model.fit(X_train, Y_train,\n",
        "          batch_size=BATCH_SIZE,\n",
        "          epochs=EPOCHS,\n",
        "          verbose=1,\n",
        "          validation_data=(X_test, Y_test))\n",
        "\n",
        "score = model.evaluate(X_test, Y_test, verbose=0)\n",
        "print('Test loss:', score[0])\n",
        "print('Test accuracy:', score[1])"
      ],
      "execution_count": 0,
      "outputs": [
        {
          "output_type": "stream",
          "text": [
            "Downloading data from https://www.cs.toronto.edu/~kriz/cifar-10-python.tar.gz\n",
            "170500096/170498071 [==============================] - 4s 0us/step\n",
            "Train on 50000 samples, validate on 10000 samples\n",
            "Epoch 1/10\n",
            "50000/50000 [==============================] - 3s 54us/step - loss: 0.4940 - acc: 0.8926 - val_loss: 0.2760 - val_acc: 0.9026\n",
            "Epoch 2/10\n",
            "50000/50000 [==============================] - 2s 42us/step - loss: 0.2710 - acc: 0.9021 - val_loss: 0.2647 - val_acc: 0.9027\n",
            "Epoch 3/10\n",
            "50000/50000 [==============================] - 2s 41us/step - loss: 0.2571 - acc: 0.9048 - val_loss: 0.2505 - val_acc: 0.9069\n",
            "Epoch 4/10\n",
            "50000/50000 [==============================] - 2s 41us/step - loss: 0.2481 - acc: 0.9072 - val_loss: 0.2511 - val_acc: 0.9063\n",
            "Epoch 5/10\n",
            "50000/50000 [==============================] - 2s 42us/step - loss: 0.2410 - acc: 0.9088 - val_loss: 0.2491 - val_acc: 0.9070\n",
            "Epoch 6/10\n",
            "50000/50000 [==============================] - 2s 41us/step - loss: 0.2353 - acc: 0.9107 - val_loss: 0.2444 - val_acc: 0.9084\n",
            "Epoch 7/10\n",
            "50000/50000 [==============================] - 2s 41us/step - loss: 0.2305 - acc: 0.9124 - val_loss: 0.2376 - val_acc: 0.9110\n",
            "Epoch 8/10\n",
            "50000/50000 [==============================] - 2s 41us/step - loss: 0.2271 - acc: 0.9131 - val_loss: 0.2354 - val_acc: 0.9115\n",
            "Epoch 9/10\n",
            "50000/50000 [==============================] - 2s 41us/step - loss: 0.2235 - acc: 0.9148 - val_loss: 0.2359 - val_acc: 0.9120\n",
            "Epoch 10/10\n",
            "50000/50000 [==============================] - 2s 42us/step - loss: 0.2203 - acc: 0.9156 - val_loss: 0.2332 - val_acc: 0.9115\n",
            "Test loss: 0.2332044373512268\n",
            "Test accuracy: 0.911499980545044\n"
          ],
          "name": "stdout"
        }
      ]
    },
    {
      "cell_type": "markdown",
      "metadata": {
        "id": "U5qKfVfSYckH",
        "colab_type": "text"
      },
      "source": [
        "**CIFAR 10**\n",
        "\n",
        "Test loss: 0.23143027470111846\n",
        "\n",
        "\n",
        "Test accuracy: 0.9121199871063232"
      ]
    },
    {
      "cell_type": "code",
      "metadata": {
        "id": "S0VMCd9qYL72",
        "colab_type": "code",
        "outputId": "f0ca9e6f-dec8-4e9f-90df-01212aaa41dc",
        "colab": {
          "base_uri": "https://localhost:8080/",
          "height": 461
        }
      },
      "source": [
        "from keras.datasets import cifar100\n",
        "from keras.models import Sequential\n",
        "from keras.layers import Dense, Dropout, Activation, Flatten\n",
        "from keras.utils import to_categorical\n",
        "\n",
        "#import dataset\n",
        "(X_train, Y_train), (X_test, Y_test) = cifar100.load_data()\n",
        "\n",
        "#change shape from image to vector\n",
        "X_train = X_train.reshape(50000, 32 * 32 * 3)\n",
        "X_test = X_test.reshape(10000, 32 * 32 * 3)\n",
        "\n",
        "#preprocess\n",
        "X_train = X_train.astype('float32')\n",
        "X_test = X_test.astype('float32')\n",
        "X_train /= 255.0\n",
        "X_test /= 255.0\n",
        "\n",
        "#change labels from numeric to one hot encoded\n",
        "Y_train = to_categorical(Y_train, 100)\n",
        "Y_test =  to_categorical(Y_test, 100)\n",
        "\n",
        "#Model building\n",
        "model = Sequential()\n",
        "model.add(Dense(1024, input_shape=(3072, )))\n",
        "model.add(Activation('relu'))\n",
        "model.add(Dense(512))\n",
        "model.add(Activation('relu'))\n",
        "model.add(Dense(512))\n",
        "model.add(Activation('relu'))\n",
        "model.add(Dense(100))\n",
        "model.add(Activation('softmax'))\n",
        "\n",
        "\n",
        "from keras import optimizers\n",
        "adamax=keras.optimizers.Adamax(lr=0.002, beta_1=0.9, beta_2=0.999)\n",
        "\n",
        "# Compile model using above optimizer\n",
        "model.compile(optimizer='rmsprop',\n",
        "              loss='binary_crossentropy',\n",
        "              metrics=['accuracy'])\n",
        "\n",
        "# Train model\n",
        "model.fit(X_train, Y_train,\n",
        "          batch_size=BATCH_SIZE,\n",
        "          epochs=EPOCHS,\n",
        "          verbose=1,\n",
        "          validation_data=(X_test, Y_test))\n",
        "\n",
        "score = model.evaluate(X_test, Y_test, verbose=0)\n",
        "print('Test loss:', score[0])\n",
        "print('Test accuracy:', score[1])"
      ],
      "execution_count": 0,
      "outputs": [
        {
          "output_type": "stream",
          "text": [
            "Downloading data from https://www.cs.toronto.edu/~kriz/cifar-100-python.tar.gz\n",
            "169009152/169001437 [==============================] - 4s 0us/step\n",
            "Train on 50000 samples, validate on 10000 samples\n",
            "Epoch 1/10\n",
            "50000/50000 [==============================] - 3s 57us/step - loss: 0.0562 - acc: 0.9897 - val_loss: 0.0495 - val_acc: 0.9900\n",
            "Epoch 2/10\n",
            "50000/50000 [==============================] - 2s 44us/step - loss: 0.0477 - acc: 0.9900 - val_loss: 0.0474 - val_acc: 0.9900\n",
            "Epoch 3/10\n",
            "50000/50000 [==============================] - 2s 42us/step - loss: 0.0457 - acc: 0.9901 - val_loss: 0.0454 - val_acc: 0.9901\n",
            "Epoch 4/10\n",
            "50000/50000 [==============================] - 2s 43us/step - loss: 0.0443 - acc: 0.9901 - val_loss: 0.0440 - val_acc: 0.9902\n",
            "Epoch 5/10\n",
            "50000/50000 [==============================] - 2s 42us/step - loss: 0.0431 - acc: 0.9902 - val_loss: 0.0437 - val_acc: 0.9902\n",
            "Epoch 6/10\n",
            "50000/50000 [==============================] - 2s 44us/step - loss: 0.0421 - acc: 0.9902 - val_loss: 0.0449 - val_acc: 0.9902\n",
            "Epoch 7/10\n",
            "50000/50000 [==============================] - 2s 41us/step - loss: 0.0413 - acc: 0.9903 - val_loss: 0.0446 - val_acc: 0.9901\n",
            "Epoch 8/10\n",
            "50000/50000 [==============================] - 2s 43us/step - loss: 0.0405 - acc: 0.9903 - val_loss: 0.0430 - val_acc: 0.9903\n",
            "Epoch 9/10\n",
            "50000/50000 [==============================] - 2s 42us/step - loss: 0.0399 - acc: 0.9904 - val_loss: 0.0442 - val_acc: 0.9901\n",
            "Epoch 10/10\n",
            "50000/50000 [==============================] - 2s 42us/step - loss: 0.0392 - acc: 0.9905 - val_loss: 0.0439 - val_acc: 0.9902\n",
            "Test loss: 0.04385386483669281\n",
            "Test accuracy: 0.9901740116119385\n"
          ],
          "name": "stdout"
        }
      ]
    },
    {
      "cell_type": "markdown",
      "metadata": {
        "id": "tndLiHaWYmt2",
        "colab_type": "text"
      },
      "source": [
        "**CIFAR 100**\n",
        "\n",
        "Test loss: 0.04387838685512543\n",
        "\n",
        "\n",
        "Test accuracy: 0.9902030138015747"
      ]
    },
    {
      "cell_type": "code",
      "metadata": {
        "id": "zQdFjxlrYS4s",
        "colab_type": "code",
        "outputId": "264e417c-a797-4684-bc09-08b0ad9bea27",
        "colab": {
          "base_uri": "https://localhost:8080/",
          "height": 568
        }
      },
      "source": [
        "import keras\n",
        "from keras import models\n",
        "from keras.layers import Dense, Dropout\n",
        "from keras.utils import to_categorical\n",
        "from keras.datasets import fashion_mnist\n",
        "from keras.utils.vis_utils import model_to_dot\n",
        "from IPython.display import SVG\n",
        "\n",
        "NUM_ROWS = 28\n",
        "NUM_COLS = 28\n",
        "NUM_CLASSES = 10\n",
        "BATCH_SIZE = 128\n",
        "EPOCHS = 10\n",
        "\n",
        "# Load data\n",
        "(X_train, Y_train), (X_test, Y_test) = fashion_mnist.load_data()\n",
        "\n",
        "\n",
        "\n",
        "# Reshape data\n",
        "X_train = X_train.reshape((X_train.shape[0], NUM_ROWS * NUM_COLS))\n",
        "X_train = X_train.astype('float32') / 255\n",
        "X_test = X_test.reshape((X_test.shape[0], NUM_ROWS * NUM_COLS))\n",
        "X_test = X_test.astype('float32') / 255\n",
        "\n",
        "# Categorically encode labels\n",
        "Y_train = to_categorical(Y_train, NUM_CLASSES)\n",
        "Y_test = to_categorical(Y_test, NUM_CLASSES)\n",
        "\n",
        "\n",
        "# Build neural network\n",
        "model = models.Sequential()\n",
        "model.add(Dense(512, activation='relu', input_shape=(NUM_ROWS * NUM_COLS,)))\n",
        "model.add(Dense(256, activation='relu'))\n",
        "model.add(Dense(10, activation='softmax'))\n",
        "\n",
        "# Compile model using above optimizer\n",
        "model.compile(optimizer='rmsprop',\n",
        "              loss='binary_crossentropy',\n",
        "              metrics=['accuracy'])\n",
        "\n",
        "# Train model\n",
        "model.fit(X_train, Y_train,\n",
        "          batch_size=BATCH_SIZE,\n",
        "          epochs=EPOCHS,\n",
        "          verbose=1,\n",
        "          validation_data=(X_test, Y_test))\n",
        "\n",
        "score = model.evaluate(X_test, Y_test, verbose=0)\n",
        "print('Test loss:', score[0])\n",
        "print('Test accuracy:', score[1])"
      ],
      "execution_count": 0,
      "outputs": [
        {
          "output_type": "stream",
          "text": [
            "Downloading data from http://fashion-mnist.s3-website.eu-central-1.amazonaws.com/train-labels-idx1-ubyte.gz\n",
            "32768/29515 [=================================] - 0s 4us/step\n",
            "Downloading data from http://fashion-mnist.s3-website.eu-central-1.amazonaws.com/train-images-idx3-ubyte.gz\n",
            "26427392/26421880 [==============================] - 2s 0us/step\n",
            "Downloading data from http://fashion-mnist.s3-website.eu-central-1.amazonaws.com/t10k-labels-idx1-ubyte.gz\n",
            "8192/5148 [===============================================] - 0s 0us/step\n",
            "Downloading data from http://fashion-mnist.s3-website.eu-central-1.amazonaws.com/t10k-images-idx3-ubyte.gz\n",
            "4423680/4422102 [==============================] - 1s 0us/step\n",
            "Train on 60000 samples, validate on 10000 samples\n",
            "Epoch 1/10\n",
            "60000/60000 [==============================] - 2s 39us/step - loss: 0.0937 - acc: 0.9621 - val_loss: 0.0787 - val_acc: 0.9678\n",
            "Epoch 2/10\n",
            "60000/60000 [==============================] - 2s 28us/step - loss: 0.0668 - acc: 0.9731 - val_loss: 0.0788 - val_acc: 0.9686\n",
            "Epoch 3/10\n",
            "60000/60000 [==============================] - 2s 29us/step - loss: 0.0599 - acc: 0.9759 - val_loss: 0.0619 - val_acc: 0.9756\n",
            "Epoch 4/10\n",
            "60000/60000 [==============================] - 2s 28us/step - loss: 0.0557 - acc: 0.9778 - val_loss: 0.0646 - val_acc: 0.9754\n",
            "Epoch 5/10\n",
            "60000/60000 [==============================] - 2s 27us/step - loss: 0.0533 - acc: 0.9787 - val_loss: 0.0648 - val_acc: 0.9743\n",
            "Epoch 6/10\n",
            "60000/60000 [==============================] - 2s 27us/step - loss: 0.0505 - acc: 0.9798 - val_loss: 0.0669 - val_acc: 0.9747\n",
            "Epoch 7/10\n",
            "60000/60000 [==============================] - 2s 28us/step - loss: 0.0486 - acc: 0.9807 - val_loss: 0.0656 - val_acc: 0.9757\n",
            "Epoch 8/10\n",
            "60000/60000 [==============================] - 2s 28us/step - loss: 0.0471 - acc: 0.9812 - val_loss: 0.0606 - val_acc: 0.9778\n",
            "Epoch 9/10\n",
            "60000/60000 [==============================] - 2s 28us/step - loss: 0.0453 - acc: 0.9819 - val_loss: 0.0619 - val_acc: 0.9779\n",
            "Epoch 10/10\n",
            "60000/60000 [==============================] - 2s 27us/step - loss: 0.0439 - acc: 0.9826 - val_loss: 0.0679 - val_acc: 0.9771\n",
            "Test loss: 0.06787744517028332\n",
            "Test accuracy: 0.9770600048065186\n"
          ],
          "name": "stdout"
        }
      ]
    },
    {
      "cell_type": "markdown",
      "metadata": {
        "id": "bMiUNdpOYvjX",
        "colab_type": "text"
      },
      "source": [
        "**FASHION_MNIST**\n",
        "\n",
        "Test loss: 0.06269588343054056\n",
        "\n",
        "\n",
        "Test accuracy: 0.9776000038146972"
      ]
    }
  ]
}